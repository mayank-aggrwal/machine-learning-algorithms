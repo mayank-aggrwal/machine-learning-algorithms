{
 "cells": [
  {
   "cell_type": "code",
   "execution_count": null,
   "metadata": {},
   "outputs": [],
   "source": [
    "# Python is a dynamically typed language\n",
    "\n",
    "a = \"Hello world!\"\n",
    "print(a)\n",
    "print(type(a))\n",
    "\n",
    "a = 10\n",
    "print(a)\n",
    "print(type(a))\n",
    "\n",
    "a = True\n",
    "print(a)\n",
    "print(type(a))\n",
    "\n",
    "a = 1.5\n",
    "print(a)\n",
    "print(type(a))"
   ]
  },
  {
   "cell_type": "code",
   "execution_count": null,
   "metadata": {},
   "outputs": [],
   "source": [
    "# Comments in Python\n",
    "\n",
    "# Single line comment\n",
    "strg = \"\"\"This is not a \n",
    "multiline comment\"\"\"\n",
    "print(strg, type(strg), sep='\\n')"
   ]
  },
  {
   "cell_type": "markdown",
   "metadata": {},
   "source": [
    "## Literal constants\n",
    "\n",
    "### Numbers\n",
    "- Integers\n",
    "- Floats\n",
    "\n",
    "### Strings\n",
    "- Single quotes\n",
    "- Double quotes\n",
    "- Triple quotes\n",
    "- Escape sequences\n",
    "\n",
    "### Bool\n",
    "\n",
    "### Data Types :\n",
    "- Integers\n",
    "- Floats\n",
    "- String\n",
    "- Bool"
   ]
  },
  {
   "cell_type": "code",
   "execution_count": null,
   "metadata": {},
   "outputs": [],
   "source": [
    "# Taking input in Python\n",
    "\n",
    "a = input('Enter a number: ')\n",
    "print('You entered {}'.format(a))\n",
    "print(type(a))\n",
    "\n",
    "num_a = int(a)\n",
    "print(a, type(num_a), sep='\\n')"
   ]
  },
  {
   "cell_type": "code",
   "execution_count": null,
   "metadata": {},
   "outputs": [],
   "source": [
    "# Taking list of numbers as input\n",
    "\n",
    "print('Before conversion')\n",
    "v = input().split()\n",
    "print(v, type(v[0]), sep='\\n')\n",
    "\n",
    "for i in range(len(v)):\n",
    "    v[i] = int(v[i])\n",
    "    \n",
    "print('After conversion')\n",
    "print(v, type(v[0]), sep='\\n')"
   ]
  },
  {
   "cell_type": "markdown",
   "metadata": {},
   "source": [
    "## List comprehension for taking input"
   ]
  },
  {
   "cell_type": "code",
   "execution_count": null,
   "metadata": {},
   "outputs": [],
   "source": [
    "v = [int(num) for num in input().split()]\n",
    "print(v, type(v[0]), sep='\\n')"
   ]
  },
  {
   "cell_type": "code",
   "execution_count": null,
   "metadata": {},
   "outputs": [],
   "source": [
    "# List Comprehension examples\n",
    "\n",
    "shark_letters_list = [letter for letter in 'shark']\n",
    "print(shark_letters_list, type(shark_letters_list), sep='\\n')\n",
    "\n",
    "# Find all the even numbers from a list of numbers\n",
    "v = [1,5,3,2,7,9,45,77,44,3,6,89,53]\n",
    "even_nums = [num for num in v if num % 2 == 0]\n",
    "print(even_nums, type(even_nums), sep='\\n')\n",
    "\n",
    "# Increment all odd numbers by itself or simply double them\n",
    "v = [1,5,3,2,7,9,45,77,44,3,6,89,53]\n",
    "odd_nums_modified = [num * 2 for num in v if num & 1]\n",
    "print(odd_nums_modified, type(odd_nums_modified), sep='\\n')\n",
    "\n",
    "li = [i * j for i in [1,5,7] for j in [4,2,1]]\n",
    "print(li)"
   ]
  },
  {
   "cell_type": "code",
   "execution_count": null,
   "metadata": {},
   "outputs": [],
   "source": [
    "# Find the maximum in a list of positive integers\n",
    "\n",
    "v = [int(num) for num in input().split()]\n",
    "M = -1 # See alternative to INT_MIN in python\n",
    "for i in v:\n",
    "    if i > M:\n",
    "        M = i\n",
    "print('Maximum is: {}'.format(M))"
   ]
  },
  {
   "cell_type": "code",
   "execution_count": null,
   "metadata": {},
   "outputs": [],
   "source": [
    "# Find the most frequent number in a list of integers\n",
    "\n",
    "v = [1,1,3,4,3,2,7,9,6,3,2,9,7,4,4,4]\n",
    "print('List of numbers given:', v, sep=\"\")\n",
    "\n",
    "map = {}\n",
    "max_freq = 0\n",
    "ans = -1\n",
    "for num in v:\n",
    "    if map.get(num) is not None:\n",
    "        map[num] += 1\n",
    "    else:\n",
    "        map[num] = 1\n",
    "    if map[num] > max_freq:\n",
    "        max_freq = map[num]\n",
    "        ans = num\n",
    "\n",
    "print('Most frequent number is {}, which occurs {} times'.format(ans, max_freq))\n",
    "print('Most frequent number is %d, which occurs %d times' % (ans, max_freq))"
   ]
  },
  {
   "cell_type": "code",
   "execution_count": null,
   "metadata": {},
   "outputs": [],
   "source": [
    "# Given a list of integers, find the mapping to the pokemons\n",
    "# 1 - Bulbasaur, 2 - Pikachu, 3 - Charmender\n",
    "\n",
    "v = [1,3,4,2,1,1,3,2,3,3,3,3,2,5,4,3,2,6]\n",
    "\n",
    "# Method - I\n",
    "for choice in v:\n",
    "    if choice == 1:\n",
    "        print('Bulbasaur', end=',')\n",
    "    elif choice == 2:\n",
    "        print('Pikachu', end=',')\n",
    "    elif choice == 3:\n",
    "        print('Charmender', end=',')\n",
    "    else:\n",
    "        print('Invalid', end=',')\n",
    "print()\n",
    "\n",
    "# Method - II\n",
    "map = {\n",
    "    1: 'Bulbasaur',\n",
    "    2: 'Pikachu',\n",
    "    3: 'Charmender'\n",
    "}\n",
    "for choice in v:\n",
    "    if map.get(choice) is not None:\n",
    "        print(map[choice], end=',')\n",
    "    else:\n",
    "        print('Invalid', end=',')"
   ]
  },
  {
   "cell_type": "code",
   "execution_count": null,
   "metadata": {},
   "outputs": [],
   "source": [
    "def printPokemons(arr, map):\n",
    "    for num in arr:\n",
    "        if map.get(num) is not None:\n",
    "            print(map[num], end=',')\n",
    "        else:\n",
    "            print('Invalid', end=',')\n",
    "            \n",
    "map = {\n",
    "    1: 'Bulbasaur',\n",
    "    2: 'Charmender',\n",
    "    3: 'Pikachu'\n",
    "}\n",
    "\n",
    "arr = [2,3,1,1,3,6,1,3,1,2,7,1,2,2,3,8,9,3,1,2,1,2,3]\n",
    "\n",
    "printPokemons(arr, map)"
   ]
  },
  {
   "cell_type": "code",
   "execution_count": null,
   "metadata": {},
   "outputs": [],
   "source": [
    "# If-else condition\n",
    "\n",
    "weather = 'Sunny'\n",
    "if weather == 'Rainy':\n",
    "    print(\"It's a rainy day.\")\n",
    "elif weather == 'Windy':\n",
    "    print(\"It's a windy day\")\n",
    "else:\n",
    "    print(\"It's a sunny day\")"
   ]
  },
  {
   "cell_type": "code",
   "execution_count": null,
   "metadata": {},
   "outputs": [],
   "source": [
    "# Different ways to print\n",
    "\n",
    "print('My name is {} and I am {} years old.'.format('Mayank', 21))\n",
    "print('Capital of %s is %s located at %d, %f' % ('India', 'New Delhi', 77, 84.5))"
   ]
  },
  {
   "cell_type": "markdown",
   "metadata": {},
   "source": [
    "## OPERATORS AND EXPRESSIONS\n",
    "\n",
    "### Expressions - mathematical expression, combination of operators and operands\n",
    "### Operators -\n",
    " - Arithmetic operators : + - * / // % **\n",
    " - Assignment operators : = ,+= ,-= ,*= ,%= ,/= ,**=\n",
    " - Comparison operators : >, <, <=, >=, !=, ==\n",
    " - Logical operators    : and, not, or"
   ]
  },
  {
   "cell_type": "code",
   "execution_count": null,
   "metadata": {},
   "outputs": [],
   "source": [
    "weather = 'Sunny'\n",
    "temp = 30\n",
    "if weather == 'Sunny' and temp >= 30:\n",
    "    print(\"Let's enjoy at home\")\n",
    "else:\n",
    "    print(\"Let's go for an outing\")"
   ]
  },
  {
   "cell_type": "markdown",
   "metadata": {},
   "source": [
    "#### Write python program to find the area and perimeter of a rectangle of given length and breadth"
   ]
  },
  {
   "cell_type": "code",
   "execution_count": null,
   "metadata": {},
   "outputs": [],
   "source": [
    "l = int(input('Enter the length of rectangle: '))\n",
    "b = int(input('Enter the breadth of rectangle: '))\n",
    "\n",
    "area = l * b\n",
    "peri = 2 * (l + b)\n",
    "\n",
    "print('Area of the rectangle is {}, perimeter is {}'.format(area, peri))"
   ]
  },
  {
   "cell_type": "markdown",
   "metadata": {},
   "source": [
    "### IF-ELSE Condition"
   ]
  },
  {
   "cell_type": "markdown",
   "metadata": {},
   "source": [
    "#### Write a python program to input an  integer from user and print sgn(num)"
   ]
  },
  {
   "cell_type": "code",
   "execution_count": null,
   "metadata": {},
   "outputs": [],
   "source": [
    "num = int(input('Enter a number: '))\n",
    "if num > 0:\n",
    "    print(1)\n",
    "elif num == 0:\n",
    "    print(0)\n",
    "else:\n",
    "    print(-1)"
   ]
  },
  {
   "cell_type": "markdown",
   "metadata": {},
   "source": [
    "### LOOPS\n",
    " - while \n",
    " - for\n",
    " - forEach\n"
   ]
  },
  {
   "cell_type": "markdown",
   "metadata": {},
   "source": [
    "#### Write a python program to input an  integer from user and print it's factorial"
   ]
  },
  {
   "cell_type": "code",
   "execution_count": 18,
   "metadata": {},
   "outputs": [
    {
     "name": "stdout",
     "output_type": "stream",
     "text": [
      "Enter a number: 6\n",
      "720\n",
      "720\n",
      "720\n"
     ]
    }
   ],
   "source": [
    "num = int(input('Enter a number: '))\n",
    "def factorial(num):\n",
    "    ans = 1\n",
    "    while num > 1:\n",
    "        ans *= num\n",
    "        num -= 1\n",
    "    return ans\n",
    "\n",
    "\n",
    "def fact(num):\n",
    "    ans = 1\n",
    "    for i in range(1, num + 1):\n",
    "        ans *= i\n",
    "    return ans\n",
    "\n",
    "def factoril(num):\n",
    "    ans = 1\n",
    "    for i in range(num, 1, -1):\n",
    "        ans *= i\n",
    "    return ans\n",
    "\n",
    "print(factorial(num))\n",
    "print(factoril(num))\n",
    "print(fact(num))"
   ]
  },
  {
   "cell_type": "markdown",
   "metadata": {},
   "source": [
    "#### Write a python program to input an  integer from user and print all prime numbers till that number"
   ]
  },
  {
   "cell_type": "code",
   "execution_count": 33,
   "metadata": {},
   "outputs": [
    {
     "name": "stdout",
     "output_type": "stream",
     "text": [
      "Enter a number: 100\n",
      "2, 3, 5, 7, 11, 13, 17, 19, 23, 29, 31, 37, 41, 43, 47, 53, 59, 61, 67, 71, 73, 79, 83, 89, 97, \n",
      "2, 3, 5, 7, 11, 13, 17, 19, 23, 29, 31, 37, 41, 43, 47, 53, 59, 61, 67, 71, 73, 79, 83, 89, 97, \n",
      "2, 3, 5, 7, 11, 13, 17, 19, 23, 29, 31, 37, 41, 43, 47, 53, 59, 61, 67, 71, 73, 79, 83, 89, 97, \n",
      "2, 3, 5, 7, 11, 13, 17, 19, 23, 29, 31, 37, 41, 43, 47, 53, 59, 61, 67, 71, 73, 79, 83, 89, 97, "
     ]
    }
   ],
   "source": [
    "num = int(input('Enter a number: '))\n",
    "sieve = [True] * (num + 1)\n",
    "sieve[0] = False\n",
    "sieve[1] = False\n",
    "\n",
    "def sieveOfEratosthenes(num):\n",
    "    for i in range(2, num):\n",
    "        if sieve[i] == True:\n",
    "            for j in range(2 * i, num + 1, i):\n",
    "                sieve[j] = False\n",
    "    for i in range(2, num + 1):\n",
    "        if sieve[i] == True:\n",
    "            print(i, end=', ')\n",
    "\n",
    "def sieveOfEratosthenesOptimized1(num):        \n",
    "    for i in range(2, num):\n",
    "        if sieve[i] == True:\n",
    "            for j in range(i * i, num + 1, i):\n",
    "                sieve[j] = False\n",
    "    for i in range(2, num + 1):\n",
    "        if sieve[i] == True:\n",
    "            print(i, end=', ')\n",
    "            \n",
    "            \n",
    "def sieveOfEratosthenesOptimized2(num): \n",
    "    for i in range(3, num, 2):\n",
    "        if sieve[i] == True:\n",
    "            for j in range(i * i, num + 1, 2 * i):\n",
    "                sieve[j] = False\n",
    "    print(2, end=', ')\n",
    "    for i in range(3, num + 1, 2):\n",
    "        if sieve[i] == True:\n",
    "            print(i, end=', ')        \n",
    "\n",
    "def sieveOfEratosthenesOptimized3(num): \n",
    "    n = int(num ** 0.5) + 1\n",
    "    for i in range(3, num, 2):\n",
    "        if sieve[i] == True:\n",
    "            for j in range(i * i, num + 1, 2 * i):\n",
    "                sieve[j] = False\n",
    "    print(2, end=', ')\n",
    "    for i in range(3, num + 1, 2):\n",
    "        if sieve[i] == True:\n",
    "            print(i, end=', ')\n",
    "\n",
    "sieveOfEratosthenes(num)\n",
    "print()\n",
    "sieveOfEratosthenesOptimized1(num)\n",
    "print()\n",
    "sieveOfEratosthenesOptimized2(num)\n",
    "print()\n",
    "sieveOfEratosthenesOptimized3(num)\n"
   ]
  },
  {
   "cell_type": "markdown",
   "metadata": {},
   "source": [
    "#### Keyworded arguments"
   ]
  },
  {
   "cell_type": "code",
   "execution_count": 36,
   "metadata": {},
   "outputs": [
    {
     "name": "stdout",
     "output_type": "stream",
     "text": [
      "a is 12, b is 7.700000, c is hello\n"
     ]
    }
   ],
   "source": [
    "def func(a, b, c):\n",
    "    print('a is %d, b is %f, c is %s' % (a, b, c))\n",
    "\n",
    "a1 = 12\n",
    "b1 = 7.7\n",
    "c1 = 'hello'\n",
    "func(c = c1, a = a1, b = b1)"
   ]
  },
  {
   "cell_type": "markdown",
   "metadata": {},
   "source": [
    "### is vs == operator"
   ]
  },
  {
   "cell_type": "code",
   "execution_count": 1,
   "metadata": {},
   "outputs": [
    {
     "name": "stdout",
     "output_type": "stream",
     "text": [
      "True\n",
      "False\n"
     ]
    }
   ],
   "source": [
    "l1 = [\"krish\", \"Mayank\", \"Hello\"]\n",
    "l2 = [\"krish\", \"Mayank\", \"Hello\"]\n",
    "\n",
    "print(l1 == l2)\n",
    "print(l1 is l2)"
   ]
  },
  {
   "cell_type": "code",
   "execution_count": 2,
   "metadata": {},
   "outputs": [
    {
     "name": "stdout",
     "output_type": "stream",
     "text": [
      "True\n",
      "True\n"
     ]
    }
   ],
   "source": [
    "l1 = [\"krish\", \"Mayank\", \"Hello\"]\n",
    "l2 = l1\n",
    "\n",
    "print(l1 == l2)\n",
    "print(l1 is l2)"
   ]
  },
  {
   "cell_type": "markdown",
   "metadata": {},
   "source": [
    "### Shallow and deep copy"
   ]
  },
  {
   "cell_type": "code",
   "execution_count": 3,
   "metadata": {},
   "outputs": [
    {
     "name": "stdout",
     "output_type": "stream",
     "text": [
      "True\n",
      "False\n"
     ]
    }
   ],
   "source": [
    "l1 = [\"krish\", \"Mayank\", \"Hello\"]\n",
    "l2 = l1.copy()\n",
    "\n",
    "print(l1 == l2)\n",
    "print(l1 is l2)"
   ]
  },
  {
   "cell_type": "code",
   "execution_count": null,
   "metadata": {},
   "outputs": [],
   "source": []
  }
 ],
 "metadata": {
  "kernelspec": {
   "display_name": "Python 3",
   "language": "python",
   "name": "python3"
  },
  "language_info": {
   "codemirror_mode": {
    "name": "ipython",
    "version": 3
   },
   "file_extension": ".py",
   "mimetype": "text/x-python",
   "name": "python",
   "nbconvert_exporter": "python",
   "pygments_lexer": "ipython3",
   "version": "3.8.5"
  }
 },
 "nbformat": 4,
 "nbformat_minor": 4
}
