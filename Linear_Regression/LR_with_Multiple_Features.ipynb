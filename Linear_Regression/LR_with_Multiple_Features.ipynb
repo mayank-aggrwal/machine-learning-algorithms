{
 "cells": [
  {
   "cell_type": "markdown",
   "metadata": {},
   "source": [
    "# Linear Regression with Multiple Features"
   ]
  },
  {
   "cell_type": "markdown",
   "metadata": {},
   "source": [
    "---"
   ]
  },
  {
   "cell_type": "markdown",
   "metadata": {},
   "source": [
    "## Boston houses dataset"
   ]
  },
  {
   "cell_type": "code",
   "execution_count": 2,
   "metadata": {},
   "outputs": [],
   "source": [
    "import numpy as np\n",
    "import pandas as pd\n",
    "import matplotlib.pyplot as plt"
   ]
  },
  {
   "cell_type": "code",
   "execution_count": 4,
   "metadata": {},
   "outputs": [],
   "source": [
    "from sklearn.datasets import load_boston"
   ]
  },
  {
   "cell_type": "code",
   "execution_count": 48,
   "metadata": {},
   "outputs": [],
   "source": [
    "boston = load_boston()\n",
    "\n",
    "X = boston.data\n",
    "y = boston.target"
   ]
  },
  {
   "cell_type": "code",
   "execution_count": 49,
   "metadata": {
    "scrolled": true
   },
   "outputs": [
    {
     "data": {
      "text/plain": [
       "array([[6.3200e-03, 1.8000e+01, 2.3100e+00, ..., 1.5300e+01, 3.9690e+02,\n",
       "        4.9800e+00],\n",
       "       [2.7310e-02, 0.0000e+00, 7.0700e+00, ..., 1.7800e+01, 3.9690e+02,\n",
       "        9.1400e+00],\n",
       "       [2.7290e-02, 0.0000e+00, 7.0700e+00, ..., 1.7800e+01, 3.9283e+02,\n",
       "        4.0300e+00],\n",
       "       ...,\n",
       "       [6.0760e-02, 0.0000e+00, 1.1930e+01, ..., 2.1000e+01, 3.9690e+02,\n",
       "        5.6400e+00],\n",
       "       [1.0959e-01, 0.0000e+00, 1.1930e+01, ..., 2.1000e+01, 3.9345e+02,\n",
       "        6.4800e+00],\n",
       "       [4.7410e-02, 0.0000e+00, 1.1930e+01, ..., 2.1000e+01, 3.9690e+02,\n",
       "        7.8800e+00]])"
      ]
     },
     "execution_count": 49,
     "metadata": {},
     "output_type": "execute_result"
    }
   ],
   "source": [
    "X"
   ]
  },
  {
   "cell_type": "code",
   "execution_count": 32,
   "metadata": {
    "scrolled": true
   },
   "outputs": [
    {
     "data": {
      "text/plain": [
       "array([24. , 21.6, 34.7, 33.4, 36.2, 28.7, 22.9, 27.1, 16.5, 18.9, 15. ,\n",
       "       18.9, 21.7, 20.4, 18.2, 19.9, 23.1, 17.5, 20.2, 18.2, 13.6, 19.6,\n",
       "       15.2, 14.5, 15.6, 13.9, 16.6, 14.8, 18.4, 21. , 12.7, 14.5, 13.2,\n",
       "       13.1, 13.5, 18.9, 20. , 21. , 24.7, 30.8, 34.9, 26.6, 25.3, 24.7,\n",
       "       21.2, 19.3, 20. , 16.6, 14.4, 19.4, 19.7, 20.5, 25. , 23.4, 18.9,\n",
       "       35.4, 24.7, 31.6, 23.3, 19.6, 18.7, 16. , 22.2, 25. , 33. , 23.5,\n",
       "       19.4, 22. , 17.4, 20.9, 24.2, 21.7, 22.8, 23.4, 24.1, 21.4, 20. ,\n",
       "       20.8, 21.2, 20.3, 28. , 23.9, 24.8, 22.9, 23.9, 26.6, 22.5, 22.2,\n",
       "       23.6, 28.7, 22.6, 22. , 22.9, 25. , 20.6, 28.4, 21.4, 38.7, 43.8,\n",
       "       33.2, 27.5, 26.5, 18.6, 19.3, 20.1, 19.5, 19.5, 20.4, 19.8, 19.4,\n",
       "       21.7, 22.8, 18.8, 18.7, 18.5, 18.3, 21.2, 19.2, 20.4, 19.3, 22. ,\n",
       "       20.3, 20.5, 17.3, 18.8, 21.4, 15.7, 16.2, 18. , 14.3, 19.2, 19.6,\n",
       "       23. , 18.4, 15.6, 18.1, 17.4, 17.1, 13.3, 17.8, 14. , 14.4, 13.4,\n",
       "       15.6, 11.8, 13.8, 15.6, 14.6, 17.8, 15.4, 21.5, 19.6, 15.3, 19.4,\n",
       "       17. , 15.6, 13.1, 41.3, 24.3, 23.3, 27. , 50. , 50. , 50. , 22.7,\n",
       "       25. , 50. , 23.8, 23.8, 22.3, 17.4, 19.1, 23.1, 23.6, 22.6, 29.4,\n",
       "       23.2, 24.6, 29.9, 37.2, 39.8, 36.2, 37.9, 32.5, 26.4, 29.6, 50. ,\n",
       "       32. , 29.8, 34.9, 37. , 30.5, 36.4, 31.1, 29.1, 50. , 33.3, 30.3,\n",
       "       34.6, 34.9, 32.9, 24.1, 42.3, 48.5, 50. , 22.6, 24.4, 22.5, 24.4,\n",
       "       20. , 21.7, 19.3, 22.4, 28.1, 23.7, 25. , 23.3, 28.7, 21.5, 23. ,\n",
       "       26.7, 21.7, 27.5, 30.1, 44.8, 50. , 37.6, 31.6, 46.7, 31.5, 24.3,\n",
       "       31.7, 41.7, 48.3, 29. , 24. , 25.1, 31.5, 23.7, 23.3, 22. , 20.1,\n",
       "       22.2, 23.7, 17.6, 18.5, 24.3, 20.5, 24.5, 26.2, 24.4, 24.8, 29.6,\n",
       "       42.8, 21.9, 20.9, 44. , 50. , 36. , 30.1, 33.8, 43.1, 48.8, 31. ,\n",
       "       36.5, 22.8, 30.7, 50. , 43.5, 20.7, 21.1, 25.2, 24.4, 35.2, 32.4,\n",
       "       32. , 33.2, 33.1, 29.1, 35.1, 45.4, 35.4, 46. , 50. , 32.2, 22. ,\n",
       "       20.1, 23.2, 22.3, 24.8, 28.5, 37.3, 27.9, 23.9, 21.7, 28.6, 27.1,\n",
       "       20.3, 22.5, 29. , 24.8, 22. , 26.4, 33.1, 36.1, 28.4, 33.4, 28.2,\n",
       "       22.8, 20.3, 16.1, 22.1, 19.4, 21.6, 23.8, 16.2, 17.8, 19.8, 23.1,\n",
       "       21. , 23.8, 23.1, 20.4, 18.5, 25. , 24.6, 23. , 22.2, 19.3, 22.6,\n",
       "       19.8, 17.1, 19.4, 22.2, 20.7, 21.1, 19.5, 18.5, 20.6, 19. , 18.7,\n",
       "       32.7, 16.5, 23.9, 31.2, 17.5, 17.2, 23.1, 24.5, 26.6, 22.9, 24.1,\n",
       "       18.6, 30.1, 18.2, 20.6, 17.8, 21.7, 22.7, 22.6, 25. , 19.9, 20.8,\n",
       "       16.8, 21.9, 27.5, 21.9, 23.1, 50. , 50. , 50. , 50. , 50. , 13.8,\n",
       "       13.8, 15. , 13.9, 13.3, 13.1, 10.2, 10.4, 10.9, 11.3, 12.3,  8.8,\n",
       "        7.2, 10.5,  7.4, 10.2, 11.5, 15.1, 23.2,  9.7, 13.8, 12.7, 13.1,\n",
       "       12.5,  8.5,  5. ,  6.3,  5.6,  7.2, 12.1,  8.3,  8.5,  5. , 11.9,\n",
       "       27.9, 17.2, 27.5, 15. , 17.2, 17.9, 16.3,  7. ,  7.2,  7.5, 10.4,\n",
       "        8.8,  8.4, 16.7, 14.2, 20.8, 13.4, 11.7,  8.3, 10.2, 10.9, 11. ,\n",
       "        9.5, 14.5, 14.1, 16.1, 14.3, 11.7, 13.4,  9.6,  8.7,  8.4, 12.8,\n",
       "       10.5, 17.1, 18.4, 15.4, 10.8, 11.8, 14.9, 12.6, 14.1, 13. , 13.4,\n",
       "       15.2, 16.1, 17.8, 14.9, 14.1, 12.7, 13.5, 14.9, 20. , 16.4, 17.7,\n",
       "       19.5, 20.2, 21.4, 19.9, 19. , 19.1, 19.1, 20.1, 19.9, 19.6, 23.2,\n",
       "       29.8, 13.8, 13.3, 16.7, 12. , 14.6, 21.4, 23. , 23.7, 25. , 21.8,\n",
       "       20.6, 21.2, 19.1, 20.6, 15.2,  7. ,  8.1, 13.6, 20.1, 21.8, 24.5,\n",
       "       23.1, 19.7, 18.3, 21.2, 17.5, 16.8, 22.4, 20.6, 23.9, 22. , 11.9])"
      ]
     },
     "execution_count": 32,
     "metadata": {},
     "output_type": "execute_result"
    }
   ],
   "source": [
    "y"
   ]
  },
  {
   "cell_type": "code",
   "execution_count": 33,
   "metadata": {},
   "outputs": [
    {
     "name": "stdout",
     "output_type": "stream",
     "text": [
      "(506, 13) (506,)\n"
     ]
    }
   ],
   "source": [
    "print(X.shape, y.shape)"
   ]
  },
  {
   "cell_type": "code",
   "execution_count": 13,
   "metadata": {},
   "outputs": [
    {
     "data": {
      "text/html": [
       "<div>\n",
       "<style scoped>\n",
       "    .dataframe tbody tr th:only-of-type {\n",
       "        vertical-align: middle;\n",
       "    }\n",
       "\n",
       "    .dataframe tbody tr th {\n",
       "        vertical-align: top;\n",
       "    }\n",
       "\n",
       "    .dataframe thead th {\n",
       "        text-align: right;\n",
       "    }\n",
       "</style>\n",
       "<table border=\"1\" class=\"dataframe\">\n",
       "  <thead>\n",
       "    <tr style=\"text-align: right;\">\n",
       "      <th></th>\n",
       "      <th>0</th>\n",
       "      <th>1</th>\n",
       "      <th>2</th>\n",
       "      <th>3</th>\n",
       "      <th>4</th>\n",
       "      <th>5</th>\n",
       "      <th>6</th>\n",
       "      <th>7</th>\n",
       "      <th>8</th>\n",
       "      <th>9</th>\n",
       "      <th>10</th>\n",
       "      <th>11</th>\n",
       "      <th>12</th>\n",
       "    </tr>\n",
       "  </thead>\n",
       "  <tbody>\n",
       "    <tr>\n",
       "      <th>0</th>\n",
       "      <td>0.00632</td>\n",
       "      <td>18.0</td>\n",
       "      <td>2.31</td>\n",
       "      <td>0.0</td>\n",
       "      <td>0.538</td>\n",
       "      <td>6.575</td>\n",
       "      <td>65.2</td>\n",
       "      <td>4.0900</td>\n",
       "      <td>1.0</td>\n",
       "      <td>296.0</td>\n",
       "      <td>15.3</td>\n",
       "      <td>396.90</td>\n",
       "      <td>4.98</td>\n",
       "    </tr>\n",
       "    <tr>\n",
       "      <th>1</th>\n",
       "      <td>0.02731</td>\n",
       "      <td>0.0</td>\n",
       "      <td>7.07</td>\n",
       "      <td>0.0</td>\n",
       "      <td>0.469</td>\n",
       "      <td>6.421</td>\n",
       "      <td>78.9</td>\n",
       "      <td>4.9671</td>\n",
       "      <td>2.0</td>\n",
       "      <td>242.0</td>\n",
       "      <td>17.8</td>\n",
       "      <td>396.90</td>\n",
       "      <td>9.14</td>\n",
       "    </tr>\n",
       "    <tr>\n",
       "      <th>2</th>\n",
       "      <td>0.02729</td>\n",
       "      <td>0.0</td>\n",
       "      <td>7.07</td>\n",
       "      <td>0.0</td>\n",
       "      <td>0.469</td>\n",
       "      <td>7.185</td>\n",
       "      <td>61.1</td>\n",
       "      <td>4.9671</td>\n",
       "      <td>2.0</td>\n",
       "      <td>242.0</td>\n",
       "      <td>17.8</td>\n",
       "      <td>392.83</td>\n",
       "      <td>4.03</td>\n",
       "    </tr>\n",
       "    <tr>\n",
       "      <th>3</th>\n",
       "      <td>0.03237</td>\n",
       "      <td>0.0</td>\n",
       "      <td>2.18</td>\n",
       "      <td>0.0</td>\n",
       "      <td>0.458</td>\n",
       "      <td>6.998</td>\n",
       "      <td>45.8</td>\n",
       "      <td>6.0622</td>\n",
       "      <td>3.0</td>\n",
       "      <td>222.0</td>\n",
       "      <td>18.7</td>\n",
       "      <td>394.63</td>\n",
       "      <td>2.94</td>\n",
       "    </tr>\n",
       "    <tr>\n",
       "      <th>4</th>\n",
       "      <td>0.06905</td>\n",
       "      <td>0.0</td>\n",
       "      <td>2.18</td>\n",
       "      <td>0.0</td>\n",
       "      <td>0.458</td>\n",
       "      <td>7.147</td>\n",
       "      <td>54.2</td>\n",
       "      <td>6.0622</td>\n",
       "      <td>3.0</td>\n",
       "      <td>222.0</td>\n",
       "      <td>18.7</td>\n",
       "      <td>396.90</td>\n",
       "      <td>5.33</td>\n",
       "    </tr>\n",
       "  </tbody>\n",
       "</table>\n",
       "</div>"
      ],
      "text/plain": [
       "        0     1     2    3      4      5     6       7    8      9     10  \\\n",
       "0  0.00632  18.0  2.31  0.0  0.538  6.575  65.2  4.0900  1.0  296.0  15.3   \n",
       "1  0.02731   0.0  7.07  0.0  0.469  6.421  78.9  4.9671  2.0  242.0  17.8   \n",
       "2  0.02729   0.0  7.07  0.0  0.469  7.185  61.1  4.9671  2.0  242.0  17.8   \n",
       "3  0.03237   0.0  2.18  0.0  0.458  6.998  45.8  6.0622  3.0  222.0  18.7   \n",
       "4  0.06905   0.0  2.18  0.0  0.458  7.147  54.2  6.0622  3.0  222.0  18.7   \n",
       "\n",
       "       11    12  \n",
       "0  396.90  4.98  \n",
       "1  396.90  9.14  \n",
       "2  392.83  4.03  \n",
       "3  394.63  2.94  \n",
       "4  396.90  5.33  "
      ]
     },
     "execution_count": 13,
     "metadata": {},
     "output_type": "execute_result"
    }
   ],
   "source": [
    "df = pd.DataFrame(X)\n",
    "df.head()"
   ]
  },
  {
   "cell_type": "code",
   "execution_count": 14,
   "metadata": {},
   "outputs": [
    {
     "data": {
      "text/html": [
       "<div>\n",
       "<style scoped>\n",
       "    .dataframe tbody tr th:only-of-type {\n",
       "        vertical-align: middle;\n",
       "    }\n",
       "\n",
       "    .dataframe tbody tr th {\n",
       "        vertical-align: top;\n",
       "    }\n",
       "\n",
       "    .dataframe thead th {\n",
       "        text-align: right;\n",
       "    }\n",
       "</style>\n",
       "<table border=\"1\" class=\"dataframe\">\n",
       "  <thead>\n",
       "    <tr style=\"text-align: right;\">\n",
       "      <th></th>\n",
       "      <th>0</th>\n",
       "    </tr>\n",
       "  </thead>\n",
       "  <tbody>\n",
       "    <tr>\n",
       "      <th>0</th>\n",
       "      <td>24.0</td>\n",
       "    </tr>\n",
       "    <tr>\n",
       "      <th>1</th>\n",
       "      <td>21.6</td>\n",
       "    </tr>\n",
       "    <tr>\n",
       "      <th>2</th>\n",
       "      <td>34.7</td>\n",
       "    </tr>\n",
       "    <tr>\n",
       "      <th>3</th>\n",
       "      <td>33.4</td>\n",
       "    </tr>\n",
       "    <tr>\n",
       "      <th>4</th>\n",
       "      <td>36.2</td>\n",
       "    </tr>\n",
       "  </tbody>\n",
       "</table>\n",
       "</div>"
      ],
      "text/plain": [
       "      0\n",
       "0  24.0\n",
       "1  21.6\n",
       "2  34.7\n",
       "3  33.4\n",
       "4  36.2"
      ]
     },
     "execution_count": 14,
     "metadata": {},
     "output_type": "execute_result"
    }
   ],
   "source": [
    "dfY = pd.DataFrame(y)\n",
    "dfY.head()"
   ]
  },
  {
   "cell_type": "code",
   "execution_count": 15,
   "metadata": {},
   "outputs": [
    {
     "data": {
      "text/plain": [
       "array(['CRIM', 'ZN', 'INDUS', 'CHAS', 'NOX', 'RM', 'AGE', 'DIS', 'RAD',\n",
       "       'TAX', 'PTRATIO', 'B', 'LSTAT'], dtype='<U7')"
      ]
     },
     "execution_count": 15,
     "metadata": {},
     "output_type": "execute_result"
    }
   ],
   "source": [
    "boston.feature_names"
   ]
  },
  {
   "cell_type": "code",
   "execution_count": 17,
   "metadata": {},
   "outputs": [
    {
     "name": "stdout",
     "output_type": "stream",
     "text": [
      ".. _boston_dataset:\n",
      "\n",
      "Boston house prices dataset\n",
      "---------------------------\n",
      "\n",
      "**Data Set Characteristics:**  \n",
      "\n",
      "    :Number of Instances: 506 \n",
      "\n",
      "    :Number of Attributes: 13 numeric/categorical predictive. Median Value (attribute 14) is usually the target.\n",
      "\n",
      "    :Attribute Information (in order):\n",
      "        - CRIM     per capita crime rate by town\n",
      "        - ZN       proportion of residential land zoned for lots over 25,000 sq.ft.\n",
      "        - INDUS    proportion of non-retail business acres per town\n",
      "        - CHAS     Charles River dummy variable (= 1 if tract bounds river; 0 otherwise)\n",
      "        - NOX      nitric oxides concentration (parts per 10 million)\n",
      "        - RM       average number of rooms per dwelling\n",
      "        - AGE      proportion of owner-occupied units built prior to 1940\n",
      "        - DIS      weighted distances to five Boston employment centres\n",
      "        - RAD      index of accessibility to radial highways\n",
      "        - TAX      full-value property-tax rate per $10,000\n",
      "        - PTRATIO  pupil-teacher ratio by town\n",
      "        - B        1000(Bk - 0.63)^2 where Bk is the proportion of blacks by town\n",
      "        - LSTAT    % lower status of the population\n",
      "        - MEDV     Median value of owner-occupied homes in $1000's\n",
      "\n",
      "    :Missing Attribute Values: None\n",
      "\n",
      "    :Creator: Harrison, D. and Rubinfeld, D.L.\n",
      "\n",
      "This is a copy of UCI ML housing dataset.\n",
      "https://archive.ics.uci.edu/ml/machine-learning-databases/housing/\n",
      "\n",
      "\n",
      "This dataset was taken from the StatLib library which is maintained at Carnegie Mellon University.\n",
      "\n",
      "The Boston house-price data of Harrison, D. and Rubinfeld, D.L. 'Hedonic\n",
      "prices and the demand for clean air', J. Environ. Economics & Management,\n",
      "vol.5, 81-102, 1978.   Used in Belsley, Kuh & Welsch, 'Regression diagnostics\n",
      "...', Wiley, 1980.   N.B. Various transformations are used in the table on\n",
      "pages 244-261 of the latter.\n",
      "\n",
      "The Boston house-price data has been used in many machine learning papers that address regression\n",
      "problems.   \n",
      "     \n",
      ".. topic:: References\n",
      "\n",
      "   - Belsley, Kuh & Welsch, 'Regression diagnostics: Identifying Influential Data and Sources of Collinearity', Wiley, 1980. 244-261.\n",
      "   - Quinlan,R. (1993). Combining Instance-Based and Model-Based Learning. In Proceedings on the Tenth International Conference of Machine Learning, 236-243, University of Massachusetts, Amherst. Morgan Kaufmann.\n",
      "\n"
     ]
    }
   ],
   "source": [
    "print(boston.DESCR)"
   ]
  },
  {
   "cell_type": "code",
   "execution_count": 18,
   "metadata": {},
   "outputs": [
    {
     "data": {
      "text/plain": [
       "'c:\\\\users\\\\mayank\\\\desktop\\\\python\\\\lib\\\\site-packages\\\\sklearn\\\\datasets\\\\data\\\\boston_house_prices.csv'"
      ]
     },
     "execution_count": 18,
     "metadata": {},
     "output_type": "execute_result"
    }
   ],
   "source": [
    "boston.filename"
   ]
  },
  {
   "cell_type": "code",
   "execution_count": 20,
   "metadata": {},
   "outputs": [
    {
     "data": {
      "text/html": [
       "<div>\n",
       "<style scoped>\n",
       "    .dataframe tbody tr th:only-of-type {\n",
       "        vertical-align: middle;\n",
       "    }\n",
       "\n",
       "    .dataframe tbody tr th {\n",
       "        vertical-align: top;\n",
       "    }\n",
       "\n",
       "    .dataframe thead th {\n",
       "        text-align: right;\n",
       "    }\n",
       "</style>\n",
       "<table border=\"1\" class=\"dataframe\">\n",
       "  <thead>\n",
       "    <tr style=\"text-align: right;\">\n",
       "      <th></th>\n",
       "      <th>CRIM</th>\n",
       "      <th>ZN</th>\n",
       "      <th>INDUS</th>\n",
       "      <th>CHAS</th>\n",
       "      <th>NOX</th>\n",
       "      <th>RM</th>\n",
       "      <th>AGE</th>\n",
       "      <th>DIS</th>\n",
       "      <th>RAD</th>\n",
       "      <th>TAX</th>\n",
       "      <th>PTRATIO</th>\n",
       "      <th>B</th>\n",
       "      <th>LSTAT</th>\n",
       "    </tr>\n",
       "  </thead>\n",
       "  <tbody>\n",
       "    <tr>\n",
       "      <th>0</th>\n",
       "      <td>0.00632</td>\n",
       "      <td>18.0</td>\n",
       "      <td>2.31</td>\n",
       "      <td>0.0</td>\n",
       "      <td>0.538</td>\n",
       "      <td>6.575</td>\n",
       "      <td>65.2</td>\n",
       "      <td>4.0900</td>\n",
       "      <td>1.0</td>\n",
       "      <td>296.0</td>\n",
       "      <td>15.3</td>\n",
       "      <td>396.90</td>\n",
       "      <td>4.98</td>\n",
       "    </tr>\n",
       "    <tr>\n",
       "      <th>1</th>\n",
       "      <td>0.02731</td>\n",
       "      <td>0.0</td>\n",
       "      <td>7.07</td>\n",
       "      <td>0.0</td>\n",
       "      <td>0.469</td>\n",
       "      <td>6.421</td>\n",
       "      <td>78.9</td>\n",
       "      <td>4.9671</td>\n",
       "      <td>2.0</td>\n",
       "      <td>242.0</td>\n",
       "      <td>17.8</td>\n",
       "      <td>396.90</td>\n",
       "      <td>9.14</td>\n",
       "    </tr>\n",
       "    <tr>\n",
       "      <th>2</th>\n",
       "      <td>0.02729</td>\n",
       "      <td>0.0</td>\n",
       "      <td>7.07</td>\n",
       "      <td>0.0</td>\n",
       "      <td>0.469</td>\n",
       "      <td>7.185</td>\n",
       "      <td>61.1</td>\n",
       "      <td>4.9671</td>\n",
       "      <td>2.0</td>\n",
       "      <td>242.0</td>\n",
       "      <td>17.8</td>\n",
       "      <td>392.83</td>\n",
       "      <td>4.03</td>\n",
       "    </tr>\n",
       "    <tr>\n",
       "      <th>3</th>\n",
       "      <td>0.03237</td>\n",
       "      <td>0.0</td>\n",
       "      <td>2.18</td>\n",
       "      <td>0.0</td>\n",
       "      <td>0.458</td>\n",
       "      <td>6.998</td>\n",
       "      <td>45.8</td>\n",
       "      <td>6.0622</td>\n",
       "      <td>3.0</td>\n",
       "      <td>222.0</td>\n",
       "      <td>18.7</td>\n",
       "      <td>394.63</td>\n",
       "      <td>2.94</td>\n",
       "    </tr>\n",
       "    <tr>\n",
       "      <th>4</th>\n",
       "      <td>0.06905</td>\n",
       "      <td>0.0</td>\n",
       "      <td>2.18</td>\n",
       "      <td>0.0</td>\n",
       "      <td>0.458</td>\n",
       "      <td>7.147</td>\n",
       "      <td>54.2</td>\n",
       "      <td>6.0622</td>\n",
       "      <td>3.0</td>\n",
       "      <td>222.0</td>\n",
       "      <td>18.7</td>\n",
       "      <td>396.90</td>\n",
       "      <td>5.33</td>\n",
       "    </tr>\n",
       "  </tbody>\n",
       "</table>\n",
       "</div>"
      ],
      "text/plain": [
       "      CRIM    ZN  INDUS  CHAS    NOX     RM   AGE     DIS  RAD    TAX  \\\n",
       "0  0.00632  18.0   2.31   0.0  0.538  6.575  65.2  4.0900  1.0  296.0   \n",
       "1  0.02731   0.0   7.07   0.0  0.469  6.421  78.9  4.9671  2.0  242.0   \n",
       "2  0.02729   0.0   7.07   0.0  0.469  7.185  61.1  4.9671  2.0  242.0   \n",
       "3  0.03237   0.0   2.18   0.0  0.458  6.998  45.8  6.0622  3.0  222.0   \n",
       "4  0.06905   0.0   2.18   0.0  0.458  7.147  54.2  6.0622  3.0  222.0   \n",
       "\n",
       "   PTRATIO       B  LSTAT  \n",
       "0     15.3  396.90   4.98  \n",
       "1     17.8  396.90   9.14  \n",
       "2     17.8  392.83   4.03  \n",
       "3     18.7  394.63   2.94  \n",
       "4     18.7  396.90   5.33  "
      ]
     },
     "execution_count": 20,
     "metadata": {},
     "output_type": "execute_result"
    }
   ],
   "source": [
    "df = pd.DataFrame(X)\n",
    "df.columns = boston.feature_names\n",
    "df.head()"
   ]
  },
  {
   "cell_type": "code",
   "execution_count": 23,
   "metadata": {},
   "outputs": [
    {
     "data": {
      "text/html": [
       "<div>\n",
       "<style scoped>\n",
       "    .dataframe tbody tr th:only-of-type {\n",
       "        vertical-align: middle;\n",
       "    }\n",
       "\n",
       "    .dataframe tbody tr th {\n",
       "        vertical-align: top;\n",
       "    }\n",
       "\n",
       "    .dataframe thead th {\n",
       "        text-align: right;\n",
       "    }\n",
       "</style>\n",
       "<table border=\"1\" class=\"dataframe\">\n",
       "  <thead>\n",
       "    <tr style=\"text-align: right;\">\n",
       "      <th></th>\n",
       "      <th>CRIM</th>\n",
       "      <th>ZN</th>\n",
       "      <th>INDUS</th>\n",
       "      <th>CHAS</th>\n",
       "      <th>NOX</th>\n",
       "      <th>RM</th>\n",
       "      <th>AGE</th>\n",
       "      <th>DIS</th>\n",
       "      <th>RAD</th>\n",
       "      <th>TAX</th>\n",
       "      <th>PTRATIO</th>\n",
       "      <th>B</th>\n",
       "      <th>LSTAT</th>\n",
       "    </tr>\n",
       "  </thead>\n",
       "  <tbody>\n",
       "    <tr>\n",
       "      <th>count</th>\n",
       "      <td>506.000000</td>\n",
       "      <td>506.000000</td>\n",
       "      <td>506.000000</td>\n",
       "      <td>506.000000</td>\n",
       "      <td>506.000000</td>\n",
       "      <td>506.000000</td>\n",
       "      <td>506.000000</td>\n",
       "      <td>506.000000</td>\n",
       "      <td>506.000000</td>\n",
       "      <td>506.000000</td>\n",
       "      <td>506.000000</td>\n",
       "      <td>506.000000</td>\n",
       "      <td>506.000000</td>\n",
       "    </tr>\n",
       "    <tr>\n",
       "      <th>mean</th>\n",
       "      <td>3.613524</td>\n",
       "      <td>11.363636</td>\n",
       "      <td>11.136779</td>\n",
       "      <td>0.069170</td>\n",
       "      <td>0.554695</td>\n",
       "      <td>6.284634</td>\n",
       "      <td>68.574901</td>\n",
       "      <td>3.795043</td>\n",
       "      <td>9.549407</td>\n",
       "      <td>408.237154</td>\n",
       "      <td>18.455534</td>\n",
       "      <td>356.674032</td>\n",
       "      <td>12.653063</td>\n",
       "    </tr>\n",
       "    <tr>\n",
       "      <th>std</th>\n",
       "      <td>8.601545</td>\n",
       "      <td>23.322453</td>\n",
       "      <td>6.860353</td>\n",
       "      <td>0.253994</td>\n",
       "      <td>0.115878</td>\n",
       "      <td>0.702617</td>\n",
       "      <td>28.148861</td>\n",
       "      <td>2.105710</td>\n",
       "      <td>8.707259</td>\n",
       "      <td>168.537116</td>\n",
       "      <td>2.164946</td>\n",
       "      <td>91.294864</td>\n",
       "      <td>7.141062</td>\n",
       "    </tr>\n",
       "    <tr>\n",
       "      <th>min</th>\n",
       "      <td>0.006320</td>\n",
       "      <td>0.000000</td>\n",
       "      <td>0.460000</td>\n",
       "      <td>0.000000</td>\n",
       "      <td>0.385000</td>\n",
       "      <td>3.561000</td>\n",
       "      <td>2.900000</td>\n",
       "      <td>1.129600</td>\n",
       "      <td>1.000000</td>\n",
       "      <td>187.000000</td>\n",
       "      <td>12.600000</td>\n",
       "      <td>0.320000</td>\n",
       "      <td>1.730000</td>\n",
       "    </tr>\n",
       "    <tr>\n",
       "      <th>25%</th>\n",
       "      <td>0.082045</td>\n",
       "      <td>0.000000</td>\n",
       "      <td>5.190000</td>\n",
       "      <td>0.000000</td>\n",
       "      <td>0.449000</td>\n",
       "      <td>5.885500</td>\n",
       "      <td>45.025000</td>\n",
       "      <td>2.100175</td>\n",
       "      <td>4.000000</td>\n",
       "      <td>279.000000</td>\n",
       "      <td>17.400000</td>\n",
       "      <td>375.377500</td>\n",
       "      <td>6.950000</td>\n",
       "    </tr>\n",
       "    <tr>\n",
       "      <th>50%</th>\n",
       "      <td>0.256510</td>\n",
       "      <td>0.000000</td>\n",
       "      <td>9.690000</td>\n",
       "      <td>0.000000</td>\n",
       "      <td>0.538000</td>\n",
       "      <td>6.208500</td>\n",
       "      <td>77.500000</td>\n",
       "      <td>3.207450</td>\n",
       "      <td>5.000000</td>\n",
       "      <td>330.000000</td>\n",
       "      <td>19.050000</td>\n",
       "      <td>391.440000</td>\n",
       "      <td>11.360000</td>\n",
       "    </tr>\n",
       "    <tr>\n",
       "      <th>75%</th>\n",
       "      <td>3.677083</td>\n",
       "      <td>12.500000</td>\n",
       "      <td>18.100000</td>\n",
       "      <td>0.000000</td>\n",
       "      <td>0.624000</td>\n",
       "      <td>6.623500</td>\n",
       "      <td>94.075000</td>\n",
       "      <td>5.188425</td>\n",
       "      <td>24.000000</td>\n",
       "      <td>666.000000</td>\n",
       "      <td>20.200000</td>\n",
       "      <td>396.225000</td>\n",
       "      <td>16.955000</td>\n",
       "    </tr>\n",
       "    <tr>\n",
       "      <th>max</th>\n",
       "      <td>88.976200</td>\n",
       "      <td>100.000000</td>\n",
       "      <td>27.740000</td>\n",
       "      <td>1.000000</td>\n",
       "      <td>0.871000</td>\n",
       "      <td>8.780000</td>\n",
       "      <td>100.000000</td>\n",
       "      <td>12.126500</td>\n",
       "      <td>24.000000</td>\n",
       "      <td>711.000000</td>\n",
       "      <td>22.000000</td>\n",
       "      <td>396.900000</td>\n",
       "      <td>37.970000</td>\n",
       "    </tr>\n",
       "  </tbody>\n",
       "</table>\n",
       "</div>"
      ],
      "text/plain": [
       "             CRIM          ZN       INDUS        CHAS         NOX          RM  \\\n",
       "count  506.000000  506.000000  506.000000  506.000000  506.000000  506.000000   \n",
       "mean     3.613524   11.363636   11.136779    0.069170    0.554695    6.284634   \n",
       "std      8.601545   23.322453    6.860353    0.253994    0.115878    0.702617   \n",
       "min      0.006320    0.000000    0.460000    0.000000    0.385000    3.561000   \n",
       "25%      0.082045    0.000000    5.190000    0.000000    0.449000    5.885500   \n",
       "50%      0.256510    0.000000    9.690000    0.000000    0.538000    6.208500   \n",
       "75%      3.677083   12.500000   18.100000    0.000000    0.624000    6.623500   \n",
       "max     88.976200  100.000000   27.740000    1.000000    0.871000    8.780000   \n",
       "\n",
       "              AGE         DIS         RAD         TAX     PTRATIO           B  \\\n",
       "count  506.000000  506.000000  506.000000  506.000000  506.000000  506.000000   \n",
       "mean    68.574901    3.795043    9.549407  408.237154   18.455534  356.674032   \n",
       "std     28.148861    2.105710    8.707259  168.537116    2.164946   91.294864   \n",
       "min      2.900000    1.129600    1.000000  187.000000   12.600000    0.320000   \n",
       "25%     45.025000    2.100175    4.000000  279.000000   17.400000  375.377500   \n",
       "50%     77.500000    3.207450    5.000000  330.000000   19.050000  391.440000   \n",
       "75%     94.075000    5.188425   24.000000  666.000000   20.200000  396.225000   \n",
       "max    100.000000   12.126500   24.000000  711.000000   22.000000  396.900000   \n",
       "\n",
       "            LSTAT  \n",
       "count  506.000000  \n",
       "mean    12.653063  \n",
       "std      7.141062  \n",
       "min      1.730000  \n",
       "25%      6.950000  \n",
       "50%     11.360000  \n",
       "75%     16.955000  \n",
       "max     37.970000  "
      ]
     },
     "execution_count": 23,
     "metadata": {},
     "output_type": "execute_result"
    }
   ],
   "source": [
    "df.describe()"
   ]
  },
  {
   "cell_type": "code",
   "execution_count": 50,
   "metadata": {},
   "outputs": [
    {
     "name": "stdout",
     "output_type": "stream",
     "text": [
      "Mean: [3.61352356e+00 1.13636364e+01 1.11367787e+01 6.91699605e-02\n",
      " 5.54695059e-01 6.28463439e+00 6.85749012e+01 3.79504269e+00\n",
      " 9.54940711e+00 4.08237154e+02 1.84555336e+01 3.56674032e+02\n",
      " 1.26530632e+01]\n",
      "Std: [8.59304135e+00 2.32993957e+01 6.85357058e+00 2.53742935e-01\n",
      " 1.15763115e-01 7.01922514e-01 2.81210326e+01 2.10362836e+00\n",
      " 8.69865112e+00 1.68370495e+02 2.16280519e+00 9.12046075e+01\n",
      " 7.13400164e+00]\n",
      "(13,) (13,)\n"
     ]
    }
   ],
   "source": [
    "u = np.mean(X, axis = 0)\n",
    "std = np.std(X, axis = 0)\n",
    "print(\"Mean:\", u)\n",
    "print(\"Std:\", std)\n",
    "print(u.shape, std.shape)"
   ]
  },
  {
   "cell_type": "code",
   "execution_count": 51,
   "metadata": {},
   "outputs": [],
   "source": [
    "X = (X - u) / std"
   ]
  },
  {
   "cell_type": "code",
   "execution_count": 52,
   "metadata": {},
   "outputs": [
    {
     "data": {
      "text/plain": [
       "array([[-0.41978194,  0.28482986, -1.2879095 , ..., -1.45900038,\n",
       "         0.44105193, -1.0755623 ],\n",
       "       [-0.41733926, -0.48772236, -0.59338101, ..., -0.30309415,\n",
       "         0.44105193, -0.49243937],\n",
       "       [-0.41734159, -0.48772236, -0.59338101, ..., -0.30309415,\n",
       "         0.39642699, -1.2087274 ],\n",
       "       ...,\n",
       "       [-0.41344658, -0.48772236,  0.11573841, ...,  1.17646583,\n",
       "         0.44105193, -0.98304761],\n",
       "       [-0.40776407, -0.48772236,  0.11573841, ...,  1.17646583,\n",
       "         0.4032249 , -0.86530163],\n",
       "       [-0.41500016, -0.48772236,  0.11573841, ...,  1.17646583,\n",
       "         0.44105193, -0.66905833]])"
      ]
     },
     "execution_count": 52,
     "metadata": {},
     "output_type": "execute_result"
    }
   ],
   "source": [
    "X"
   ]
  },
  {
   "cell_type": "code",
   "execution_count": 37,
   "metadata": {},
   "outputs": [
    {
     "data": {
      "text/html": [
       "<div>\n",
       "<style scoped>\n",
       "    .dataframe tbody tr th:only-of-type {\n",
       "        vertical-align: middle;\n",
       "    }\n",
       "\n",
       "    .dataframe tbody tr th {\n",
       "        vertical-align: top;\n",
       "    }\n",
       "\n",
       "    .dataframe thead th {\n",
       "        text-align: right;\n",
       "    }\n",
       "</style>\n",
       "<table border=\"1\" class=\"dataframe\">\n",
       "  <thead>\n",
       "    <tr style=\"text-align: right;\">\n",
       "      <th></th>\n",
       "      <th>CRIM</th>\n",
       "      <th>ZN</th>\n",
       "      <th>INDUS</th>\n",
       "      <th>CHAS</th>\n",
       "      <th>NOX</th>\n",
       "      <th>RM</th>\n",
       "      <th>AGE</th>\n",
       "      <th>DIS</th>\n",
       "      <th>RAD</th>\n",
       "      <th>TAX</th>\n",
       "      <th>PTRATIO</th>\n",
       "      <th>B</th>\n",
       "      <th>LSTAT</th>\n",
       "    </tr>\n",
       "  </thead>\n",
       "  <tbody>\n",
       "    <tr>\n",
       "      <th>0</th>\n",
       "      <td>-0.419782</td>\n",
       "      <td>0.284830</td>\n",
       "      <td>-1.287909</td>\n",
       "      <td>-0.272599</td>\n",
       "      <td>-0.144217</td>\n",
       "      <td>0.413672</td>\n",
       "      <td>-0.120013</td>\n",
       "      <td>0.140214</td>\n",
       "      <td>-0.982843</td>\n",
       "      <td>-0.666608</td>\n",
       "      <td>-1.459000</td>\n",
       "      <td>0.441052</td>\n",
       "      <td>-1.075562</td>\n",
       "    </tr>\n",
       "    <tr>\n",
       "      <th>1</th>\n",
       "      <td>-0.417339</td>\n",
       "      <td>-0.487722</td>\n",
       "      <td>-0.593381</td>\n",
       "      <td>-0.272599</td>\n",
       "      <td>-0.740262</td>\n",
       "      <td>0.194274</td>\n",
       "      <td>0.367166</td>\n",
       "      <td>0.557160</td>\n",
       "      <td>-0.867883</td>\n",
       "      <td>-0.987329</td>\n",
       "      <td>-0.303094</td>\n",
       "      <td>0.441052</td>\n",
       "      <td>-0.492439</td>\n",
       "    </tr>\n",
       "    <tr>\n",
       "      <th>2</th>\n",
       "      <td>-0.417342</td>\n",
       "      <td>-0.487722</td>\n",
       "      <td>-0.593381</td>\n",
       "      <td>-0.272599</td>\n",
       "      <td>-0.740262</td>\n",
       "      <td>1.282714</td>\n",
       "      <td>-0.265812</td>\n",
       "      <td>0.557160</td>\n",
       "      <td>-0.867883</td>\n",
       "      <td>-0.987329</td>\n",
       "      <td>-0.303094</td>\n",
       "      <td>0.396427</td>\n",
       "      <td>-1.208727</td>\n",
       "    </tr>\n",
       "    <tr>\n",
       "      <th>3</th>\n",
       "      <td>-0.416750</td>\n",
       "      <td>-0.487722</td>\n",
       "      <td>-1.306878</td>\n",
       "      <td>-0.272599</td>\n",
       "      <td>-0.835284</td>\n",
       "      <td>1.016303</td>\n",
       "      <td>-0.809889</td>\n",
       "      <td>1.077737</td>\n",
       "      <td>-0.752922</td>\n",
       "      <td>-1.106115</td>\n",
       "      <td>0.113032</td>\n",
       "      <td>0.416163</td>\n",
       "      <td>-1.361517</td>\n",
       "    </tr>\n",
       "    <tr>\n",
       "      <th>4</th>\n",
       "      <td>-0.412482</td>\n",
       "      <td>-0.487722</td>\n",
       "      <td>-1.306878</td>\n",
       "      <td>-0.272599</td>\n",
       "      <td>-0.835284</td>\n",
       "      <td>1.228577</td>\n",
       "      <td>-0.511180</td>\n",
       "      <td>1.077737</td>\n",
       "      <td>-0.752922</td>\n",
       "      <td>-1.106115</td>\n",
       "      <td>0.113032</td>\n",
       "      <td>0.441052</td>\n",
       "      <td>-1.026501</td>\n",
       "    </tr>\n",
       "  </tbody>\n",
       "</table>\n",
       "</div>"
      ],
      "text/plain": [
       "       CRIM        ZN     INDUS      CHAS       NOX        RM       AGE  \\\n",
       "0 -0.419782  0.284830 -1.287909 -0.272599 -0.144217  0.413672 -0.120013   \n",
       "1 -0.417339 -0.487722 -0.593381 -0.272599 -0.740262  0.194274  0.367166   \n",
       "2 -0.417342 -0.487722 -0.593381 -0.272599 -0.740262  1.282714 -0.265812   \n",
       "3 -0.416750 -0.487722 -1.306878 -0.272599 -0.835284  1.016303 -0.809889   \n",
       "4 -0.412482 -0.487722 -1.306878 -0.272599 -0.835284  1.228577 -0.511180   \n",
       "\n",
       "        DIS       RAD       TAX   PTRATIO         B     LSTAT  \n",
       "0  0.140214 -0.982843 -0.666608 -1.459000  0.441052 -1.075562  \n",
       "1  0.557160 -0.867883 -0.987329 -0.303094  0.441052 -0.492439  \n",
       "2  0.557160 -0.867883 -0.987329 -0.303094  0.396427 -1.208727  \n",
       "3  1.077737 -0.752922 -1.106115  0.113032  0.416163 -1.361517  \n",
       "4  1.077737 -0.752922 -1.106115  0.113032  0.441052 -1.026501  "
      ]
     },
     "execution_count": 37,
     "metadata": {},
     "output_type": "execute_result"
    }
   ],
   "source": [
    "df = pd.DataFrame(X)\n",
    "df.columns = boston.feature_names\n",
    "df.head()"
   ]
  },
  {
   "cell_type": "code",
   "execution_count": 39,
   "metadata": {},
   "outputs": [],
   "source": [
    "plt.style.use('seaborn')"
   ]
  },
  {
   "cell_type": "code",
   "execution_count": 40,
   "metadata": {},
   "outputs": [
    {
     "data": {
      "image/png": "[encoded data removed]",
      "text/plain": [
       "<Figure size 576x396 with 1 Axes>"
      ]
     },
     "metadata": {},
     "output_type": "display_data"
    }
   ],
   "source": [
    "plt.scatter(X[:, 5], y)\n",
    "plt.show()"
   ]
  },
  {
   "cell_type": "markdown",
   "metadata": {},
   "source": [
    "---"
   ]
  },
  {
   "cell_type": "markdown",
   "metadata": {},
   "source": [
    "## Implementation"
   ]
  },
  {
   "cell_type": "markdown",
   "metadata": {},
   "source": [
    "---"
   ]
  },
  {
   "cell_type": "code",
   "execution_count": 53,
   "metadata": {},
   "outputs": [
    {
     "name": "stdout",
     "output_type": "stream",
     "text": [
      "(506, 13)\n",
      "(506, 14)\n"
     ]
    },
    {
     "data": {
      "text/plain": [
       "array([[ 1.        , -0.41978194,  0.28482986, -1.2879095 , -0.27259857,\n",
       "        -0.14421743,  0.41367189, -0.12001342,  0.1402136 , -0.98284286,\n",
       "        -0.66660821, -1.45900038,  0.44105193, -1.0755623 ],\n",
       "       [ 1.        , -0.41733926, -0.48772236, -0.59338101, -0.27259857,\n",
       "        -0.74026221,  0.19427445,  0.36716642,  0.55715988, -0.8678825 ,\n",
       "        -0.98732948, -0.30309415,  0.44105193, -0.49243937],\n",
       "       [ 1.        , -0.41734159, -0.48772236, -0.59338101, -0.27259857,\n",
       "        -0.74026221,  1.28271368, -0.26581176,  0.55715988, -0.8678825 ,\n",
       "        -0.98732948, -0.30309415,  0.39642699, -1.2087274 ],\n",
       "       [ 1.        , -0.41675042, -0.48772236, -1.30687771, -0.27259857,\n",
       "        -0.83528384,  1.01630251, -0.80988851,  1.07773662, -0.75292215,\n",
       "        -1.10611514,  0.1130321 ,  0.41616284, -1.36151682],\n",
       "       [ 1.        , -0.41248185, -0.48772236, -1.30687771, -0.27259857,\n",
       "        -0.83528384,  1.22857665, -0.51117971,  1.07773662, -0.75292215,\n",
       "        -1.10611514,  0.1130321 ,  0.44105193, -1.02650148]])"
      ]
     },
     "execution_count": 53,
     "metadata": {},
     "output_type": "execute_result"
    }
   ],
   "source": [
    "# Make the Data X of 14 columns by appending a ones column\n",
    "print(X.shape)\n",
    "ones = np.ones((X.shape[0], 1))\n",
    "X = np.hstack((ones, X))\n",
    "print(X.shape)"
   ]
  },
  {
   "cell_type": "code",
   "execution_count": 55,
   "metadata": {},
   "outputs": [
    {
     "data": {
      "text/plain": [
       "array([[ 1.        , -0.41978194,  0.28482986, -1.2879095 , -0.27259857],\n",
       "       [ 1.        , -0.41733926, -0.48772236, -0.59338101, -0.27259857],\n",
       "       [ 1.        , -0.41734159, -0.48772236, -0.59338101, -0.27259857],\n",
       "       [ 1.        , -0.41675042, -0.48772236, -1.30687771, -0.27259857],\n",
       "       [ 1.        , -0.41248185, -0.48772236, -1.30687771, -0.27259857]])"
      ]
     },
     "execution_count": 55,
     "metadata": {},
     "output_type": "execute_result"
    }
   ],
   "source": [
    "X[:5, :5]"
   ]
  },
  {
   "cell_type": "code",
   "execution_count": 68,
   "metadata": {},
   "outputs": [],
   "source": [
    "def hypothesis(x, theta):\n",
    "    y_ = 0.0\n",
    "    for i in range(x.shape[0]):\n",
    "        y_ += x[i] * theta[i]\n",
    "    return y_"
   ]
  },
  {
   "cell_type": "code",
   "execution_count": 69,
   "metadata": {},
   "outputs": [],
   "source": [
    "def error(X, y, theta):\n",
    "    e = 0.0\n",
    "    m = X.shape[0]\n",
    "    for i in range(m):\n",
    "        y_ = hypothesis(X[i], theta)\n",
    "        e += (y_ - y[i]) ** 2\n",
    "    return e / m"
   ]
  },
  {
   "cell_type": "code",
   "execution_count": 70,
   "metadata": {},
   "outputs": [],
   "source": [
    "def gradient(X, y, theta):\n",
    "    m, n = X.shape\n",
    "    grad = np.zeros((n,))\n",
    "    \n",
    "    for i in range(m):\n",
    "        y_ = hypothesis(X[i], theta)\n",
    "        for j in range(n):\n",
    "            grad[j] += (y_ - y[i]) * X[i][j]\n",
    "    \n",
    "    return grad / m"
   ]
  },
  {
   "cell_type": "code",
   "execution_count": 71,
   "metadata": {},
   "outputs": [],
   "source": [
    "def gradient_descent(X, y, lr = 0.1, max_epochs = 300):\n",
    "    m, n = X.shape\n",
    "    error_list = []\n",
    "    theta_list = []\n",
    "    theta = np.zeros((n,))\n",
    "    for i in range(max_epochs):\n",
    "        e = error(X, y, theta)\n",
    "        error_list.append(e)\n",
    "        theta_list.append(theta)\n",
    "        \n",
    "        grad = gradient(X, y, theta)\n",
    "        for i in range(n):\n",
    "            theta[i] = theta[i] - lr * grad[i]\n",
    "    \n",
    "    return theta, error_list, theta_list"
   ]
  },
  {
   "cell_type": "code",
   "execution_count": 72,
   "metadata": {},
   "outputs": [],
   "source": [
    "theta, error_list, theta_list = gradient_descent(X, y)"
   ]
  },
  {
   "cell_type": "code",
   "execution_count": 73,
   "metadata": {},
   "outputs": [
    {
     "data": {
      "text/plain": [
       "array([ 2.25328063e+01, -9.03091692e-01,  1.03815625e+00,  1.53477685e-02,\n",
       "        6.99554920e-01, -2.02101672e+00,  2.70014278e+00, -1.93085233e-03,\n",
       "       -3.10234837e+00,  2.34354753e+00, -1.72031485e+00, -2.04614394e+00,\n",
       "        8.47845679e-01, -3.73089521e+00])"
      ]
     },
     "execution_count": 73,
     "metadata": {},
     "output_type": "execute_result"
    }
   ],
   "source": [
    "theta"
   ]
  },
  {
   "cell_type": "code",
   "execution_count": 74,
   "metadata": {},
   "outputs": [
    {
     "data": {
      "text/plain": [
       "[592.1469169960473,\n",
       " 462.46044906845856,\n",
       " 375.385275095727,\n",
       " 307.6933342962929,\n",
       " 253.39168634679373,\n",
       " 209.55988275906455,\n",
       " 174.1302049153626,\n",
       " 145.47824715741677,\n",
       " 122.30009891984608,\n",
       " 103.54456174692926,\n",
       " 88.36328034470087,\n",
       " 76.07131291555939,\n",
       " 66.11549356461218,\n",
       " 58.04896715358394,\n",
       " 51.51067344934862,\n",
       " 46.208810615526716,\n",
       " 41.90750109402469,\n",
       " 38.41603601946844,\n",
       " 35.58019677482987,\n",
       " 33.275250473323695,\n",
       " 31.40029493330841,\n",
       " 29.873691975646707,\n",
       " 28.629378705367383,\n",
       " 27.61388730734378,\n",
       " 26.78393675990612,\n",
       " 26.104486327537224,\n",
       " 25.547161996504887,\n",
       " 25.08898417710864,\n",
       " 24.711338824412547,\n",
       " 24.399145276935656,\n",
       " 24.14018310253681,\n",
       " 23.924547492728298,\n",
       " 23.744208598563592,\n",
       " 23.592654924717937,\n",
       " 23.464604712017078,\n",
       " 23.355772318479673,\n",
       " 23.26267909670338,\n",
       " 23.182500275377254,\n",
       " 23.1129409769508,\n",
       " 23.052135816286278,\n",
       " 22.998567586378837,\n",
       " 22.951001395282688,\n",
       " 22.908431312249895,\n",
       " 22.870037142264884,\n",
       " 22.835149402084745,\n",
       " 22.803220938113167,\n",
       " 22.773803923546097,\n",
       " 22.746531212641212,\n",
       " 22.721101224522528,\n",
       " 22.697265686396182,\n",
       " 22.674819693511417,\n",
       " 22.65359364637796,\n",
       " 22.633446709280467,\n",
       " 22.614261501761465,\n",
       " 22.595939789505692,\n",
       " 22.578398985402426,\n",
       " 22.561569307476553,\n",
       " 22.545391469463727,\n",
       " 22.52981480336543,\n",
       " 22.514795732401403,\n",
       " 22.50029652823866,\n",
       " 22.486284298899058,\n",
       " 22.47273016389668,\n",
       " 22.45960858137694,\n",
       " 22.446896798695192,\n",
       " 22.43457440326862,\n",
       " 22.42262295491569,\n",
       " 22.411025684441583,\n",
       " 22.399767246104748,\n",
       " 22.388833513931242,\n",
       " 22.37821141373254,\n",
       " 22.36788878421599,\n",
       " 22.357854261818904,\n",
       " 22.348097184906404,\n",
       " 22.338607513789555,\n",
       " 22.329375763684727,\n",
       " 22.320392948272374,\n",
       " 22.31165053195109,\n",
       " 22.303140389236233,\n",
       " 22.294854770041447,\n",
       " 22.28678626981419,\n",
       " 22.27892780368662,\n",
       " 22.271272583957163,\n",
       " 22.263814100343527,\n",
       " 22.256546102550608,\n",
       " 22.249462584777735,\n",
       " 22.242557771859154,\n",
       " 22.235826106785343,\n",
       " 22.229262239397954,\n",
       " 22.22286101608726,\n",
       " 22.216617470351263,\n",
       " 22.21052681409892,\n",
       " 22.20458442960161,\n",
       " 22.198785862010332,\n",
       " 22.193126812372462,\n",
       " 22.18760313109054,\n",
       " 22.182210811775562,\n",
       " 22.176945985454456,\n",
       " 22.17180491509701,\n",
       " 22.166783990433373,\n",
       " 22.161879723036314,\n",
       " 22.15708874164703,\n",
       " 22.152407787724755,\n",
       " 22.147833711204985,\n",
       " 22.143363466449635,\n",
       " 22.13899410837849,\n",
       " 22.13472278876883,\n",
       " 22.130546752713595,\n",
       " 22.126463335229033,\n",
       " 22.12246995800257,\n",
       " 22.118564126274673,\n",
       " 22.11474342584612,\n",
       " 22.111005520205513,\n",
       " 22.107348147770352,\n",
       " 22.103769119236695,\n",
       " 22.100266315032016,\n",
       " 22.0968376828661,\n",
       " 22.093481235376753,\n",
       " 22.090195047864636,\n",
       " 22.086977256114228,\n",
       " 22.083826054297216,\n",
       " 22.080739692954076,\n",
       " 22.077716477051645,\n",
       " 22.074754764112285,\n",
       " 22.07185296241287,\n",
       " 22.0690095292497,\n",
       " 22.06622296926765,\n",
       " 22.063491832849987,\n",
       " 22.060814714567435,\n",
       " 22.05819025168322,\n",
       " 22.055617122712533,\n",
       " 22.05309404603397,\n",
       " 22.0506197785511,\n",
       " 22.048193114401947,\n",
       " 22.045812883715044,\n",
       " 22.04347795140962,\n",
       " 22.041187216038807,\n",
       " 22.03893960867372,\n",
       " 22.03673409182747,\n",
       " 22.03456965841722,\n",
       " 22.0324453307625,\n",
       " 22.030360159619196,\n",
       " 22.02831322324767,\n",
       " 22.026303626513027,\n",
       " 22.024330500017356,\n",
       " 22.02239299926217,\n",
       " 22.02049030383985,\n",
       " 22.018621616653675,\n",
       " 22.01678616316447,\n",
       " 22.014983190663607,\n",
       " 22.013211967571237,\n",
       " 22.01147178275864,\n",
       " 22.009761944893917,\n",
       " 22.008081781810244,\n",
       " 22.006430639895914,\n",
       " 22.004807883505137,\n",
       " 22.003212894389247,\n",
       " 22.001645071146847,\n",
       " 22.000103828693415,\n",
       " 21.99858859774835,\n",
       " 21.99709882433983,\n",
       " 21.995633969326292,\n",
       " 21.994193507934177,\n",
       " 21.992776929311333,\n",
       " 21.99138373609537,\n",
       " 21.990013443996826,\n",
       " 21.988665581395903,\n",
       " 21.987339688953323,\n",
       " 21.986035319233714,\n",
       " 21.984752036341913,\n",
       " 21.98348941557131,\n",
       " 21.982247043063904,\n",
       " 21.98102451548166,\n",
       " 21.979821439688997,\n",
       " 21.978637432445392,\n",
       " 21.97747212010864,\n",
       " 21.976325138347576,\n",
       " 21.975196131864408,\n",
       " 21.974084754126217,\n",
       " 21.972990667105268,\n",
       " 21.97191354102773,\n",
       " 21.97085305413088,\n",
       " 21.96980889242794,\n",
       " 21.968780749480853,\n",
       " 21.967768326180284,\n",
       " 21.96677133053282,\n",
       " 21.965789477455257,\n",
       " 21.96482248857514,\n",
       " 21.96387009203815,\n",
       " 21.962932022321546,\n",
       " 21.962008020053535,\n",
       " 21.96109783183862,\n",
       " 21.960201210088393,\n",
       " 21.9593179128579,\n",
       " 21.95844770368688,\n",
       " 21.957590351446715,\n",
       " 21.95674563019142,\n",
       " 21.955913319014126,\n",
       " 21.955093201907598,\n",
       " 21.954285067629364,\n",
       " 21.95348870957099,\n",
       " 21.952703925631702,\n",
       " 21.951930518095583,\n",
       " 21.95116829351297,\n",
       " 21.950417062585398,\n",
       " 21.949676640054083,\n",
       " 21.94894684459201,\n",
       " 21.948227498699175,\n",
       " 21.947518428601263,\n",
       " 21.946819464151314,\n",
       " 21.946130438734535,\n",
       " 21.94545118917576,\n",
       " 21.94478155565022,\n",
       " 21.944121381596467,\n",
       " 21.94347051363245,\n",
       " 21.942828801473702,\n",
       " 21.942196097854488,\n",
       " 21.94157225845083,\n",
       " 21.940957141806145,\n",
       " 21.940350609259134,\n",
       " 21.939752524873608,\n",
       " 21.939162755370646,\n",
       " 21.93858117006257,\n",
       " 21.938007640789092,\n",
       " 21.937442041855068,\n",
       " 21.936884249970404,\n",
       " 21.936334144191438,\n",
       " 21.93579160586425,\n",
       " 21.935256518569535,\n",
       " 21.934728768068943,\n",
       " 21.93420824225332,\n",
       " 21.93369483109217,\n",
       " 21.933188426584522,\n",
       " 21.932688922711453,\n",
       " 21.932196215389848,\n",
       " 21.931710202427354,\n",
       " 21.9312307834788,\n",
       " 21.930757860003823,\n",
       " 21.930291335225544,\n",
       " 21.9298311140905,\n",
       " 21.929377103229772,\n",
       " 21.92892921092101,\n",
       " 21.928487347051814,\n",
       " 21.92805142308367,\n",
       " 21.92762135201732,\n",
       " 21.92719704835885,\n",
       " 21.926778428086784,\n",
       " 21.926365408620036,\n",
       " 21.925957908786604,\n",
       " 21.925555848793472,\n",
       " 21.92515915019699,\n",
       " 21.924767735874084,\n",
       " 21.924381529994328,\n",
       " 21.92400045799282,\n",
       " 21.92362444654356,\n",
       " 21.92325342353373,\n",
       " 21.9228873180385,\n",
       " 21.9225260602966,\n",
       " 21.922169581686337,\n",
       " 21.921817814702724,\n",
       " 21.921470692934342,\n",
       " 21.921128151041863,\n",
       " 21.92079012473603,\n",
       " 21.920456550757084,\n",
       " 21.920127366854135,\n",
       " 21.919802511765393,\n",
       " 21.919481925198685,\n",
       " 21.91916554781256,\n",
       " 21.918853321197858,\n",
       " 21.91854518785961,\n",
       " 21.91824109119957,\n",
       " 21.91794097549913,\n",
       " 21.9176447859024,\n",
       " 21.91735246840015,\n",
       " 21.917063969813743,\n",
       " 21.916779237779565,\n",
       " 21.91649822073396,\n",
       " 21.916220867898264,\n",
       " 21.91594712926458,\n",
       " 21.91567695558139,\n",
       " 21.91541029833993,\n",
       " 21.915147109760667,\n",
       " 21.914887342780084,\n",
       " 21.914630951037893,\n",
       " 21.914377888864323,\n",
       " 21.9141281112681,\n",
       " 21.913881573924115,\n",
       " 21.9136382331619,\n",
       " 21.91339804595407,\n",
       " 21.913160969905118,\n",
       " 21.91292696324044,\n",
       " 21.912695984795548,\n",
       " 21.9124679940057,\n",
       " 21.912242950895397,\n",
       " 21.91202081606866,\n",
       " 21.911801550698826,\n",
       " 21.91158511651917,\n",
       " 21.911371475813542,\n",
       " 21.911160591406844,\n",
       " 21.910952426656205]"
      ]
     },
     "execution_count": 74,
     "metadata": {},
     "output_type": "execute_result"
    }
   ],
   "source": [
    "error_list"
   ]
  },
  {
   "cell_type": "code",
   "execution_count": 75,
   "metadata": {},
   "outputs": [
    {
     "data": {
      "text/plain": [
       "[<matplotlib.lines.Line2D at 0x1ca4deb0>]"
      ]
     },
     "execution_count": 75,
     "metadata": {},
     "output_type": "execute_result"
    },
    {
     "data": {
      "image/png": "[encoded data removed]",
      "text/plain": [
       "<Figure size 576x396 with 1 Axes>"
      ]
     },
     "metadata": {},
     "output_type": "display_data"
    }
   ],
   "source": [
    "plt.plot(error_list)"
   ]
  },
  {
   "cell_type": "code",
   "execution_count": 76,
   "metadata": {},
   "outputs": [
    {
     "name": "stdout",
     "output_type": "stream",
     "text": [
      "Time taken:  8.01843547821045\n"
     ]
    }
   ],
   "source": [
    "import time\n",
    "start = time.time()\n",
    "theta, error_list, theta_list = gradient_descent(X, y)\n",
    "end = time.time()\n",
    "\n",
    "print(\"Time taken: \", end - start)"
   ]
  },
  {
   "cell_type": "code",
   "execution_count": 77,
   "metadata": {},
   "outputs": [
    {
     "data": {
      "text/plain": [
       "array([ 2.25328063e+01, -9.03091692e-01,  1.03815625e+00,  1.53477685e-02,\n",
       "        6.99554920e-01, -2.02101672e+00,  2.70014278e+00, -1.93085233e-03,\n",
       "       -3.10234837e+00,  2.34354753e+00, -1.72031485e+00, -2.04614394e+00,\n",
       "        8.47845679e-01, -3.73089521e+00])"
      ]
     },
     "execution_count": 77,
     "metadata": {},
     "output_type": "execute_result"
    }
   ],
   "source": [
    "theta"
   ]
  },
  {
   "cell_type": "code",
   "execution_count": 79,
   "metadata": {},
   "outputs": [
    {
     "data": {
      "text/plain": [
       "[<matplotlib.lines.Line2D at 0x1c8aac28>]"
      ]
     },
     "execution_count": 79,
     "metadata": {},
     "output_type": "execute_result"
    },
    {
     "data": {
      "image/png": "[encoded data removed]",
      "text/plain": [
       "<Figure size 576x396 with 1 Axes>"
      ]
     },
     "metadata": {},
     "output_type": "display_data"
    }
   ],
   "source": [
    "plt.plot(error_list)"
   ]
  },
  {
   "cell_type": "code",
   "execution_count": 80,
   "metadata": {
    "scrolled": true
   },
   "outputs": [
    {
     "name": "stdout",
     "output_type": "stream",
     "text": [
      "[30.186336942998643, 24.990954837409078, 30.56568097745801, 28.622012602315888, 27.961946398714606, 25.24452832413363, 22.96581931394837, 19.49591119513463, 11.480319872941028, 18.87883584881724, 18.971298844464123, 21.540394526871616, 20.892853267050963, 19.601281485262646, 19.323673930417634, 19.345868601178108, 20.598327290162686, 16.957837934425903, 16.23493880969839, 18.44548853631551, 12.554794606831983, 17.709254220201807, 15.885470430901519, 13.841904431723641, 15.715709473080857, 13.42055080261487, 15.497753584813015, 14.758182409583778, 19.599559126623895, 20.939776819112936, 11.497450952336138, 18.09361635271523, 8.883010384481965, 14.316102223125402, 13.759836326659753, 23.77730951327726, 22.3098894089011, 23.08772243848138, 22.90940544568138, 31.27562517201615, 34.14934567165182, 27.99150714897603, 25.151611073043725, 24.561952211824135, 22.866657221441766, 22.012996989460905, 20.35079994607129, 17.942397648694268, 9.003235902638046, 17.109593138587737, 21.164630585448133, 23.84049419587873, 27.563199986977658, 23.9428114750303, 15.707666088381567, 30.963244449616553, 24.937462429075165, 32.91466583329115, 21.632937084775435, 20.924002909624516, 17.697736901784037, 18.326173850383924, 23.826163687860678, 22.42830640369022, 23.348958563028635, 30.375221770718415, 25.525578299263685, 21.230640104811176, 17.525711536410984, 20.894948468448913, 25.201757288257408, 21.723749815644787, 24.54156678173828, 24.03905863379228, 25.626791235748666, 24.0638164175841, 23.024848129190058, 23.44984560898414, 21.356573771428444, 22.516294354742403, 28.408489668970336, 26.968991550229198, 26.0263213979388, 25.03478104613294, 24.79279035911165, 27.79575062851244, 22.170673994590313, 25.881548872850875, 30.780853481666544, 30.958005806899166, 27.224530622760064, 27.51066853702265, 28.712889434446463, 28.859443996762742, 26.790546442621192, 28.75132406484892, 24.83596211418634, 35.942813952953536, 35.29511985991642, 32.40179358310407, 24.75516583968942, 25.77444453734472, 19.956406180136277, 20.466441089478096, 21.58632494703429, 18.681769315122235, 17.336567248740845, 20.9071186201088, 22.80555026085656, 19.931142622119843, 20.830657477087197, 26.72618732139172, 20.94596258313952, 20.894900352324584, 25.353817750541687, 20.607318056385424, 23.5681151032705, 23.864840707561154, 20.521562555055194, 20.974696069022364, 21.46430039245738, 22.01300726350287, 20.097530354918735, 15.913291918051126, 20.095215549619756, 22.020745752086864, 14.159846545973346, 15.255451308543746, 19.03740999362899, 14.1352850980722, 20.13025781894855, 19.503131761529595, 20.152886277862404, 15.836933954100903, 13.338445521733101, 17.362168546319538, 15.966225509238331, 19.46024179414964, 13.903151877377768, 16.543888794839877, 13.680139272198492, 4.071983378218354, 14.720171742865102, 12.207844140038883, 8.76929607808722, 12.120275155925889, 15.866292394226129, 8.55791283148388, 9.770735925396114, 14.86013525733794, 20.89524710209361, 18.327651391030845, 20.2111747440914, 17.332710571347533, 22.49615131414845, 20.25459101293862, 13.659528962581808, 33.246810501090586, 28.986485634835212, 25.624063777142734, 32.7456270735184, 36.78233080308455, 40.64269161710541, 41.958436626361355, 24.75521343186859, 25.35466421817972, 37.22852041102257, 23.06668280397622, 26.383648576274673, 26.63892348382214, 22.523899817430895, 24.25575334021025, 22.976004892762358, 29.095722090805374, 26.53800723415684, 30.783242115612893, 25.656544471471552, 29.16112396419093, 31.479695657911762, 32.86492694227072, 34.68152029270386, 27.6820951398693, 33.81087102095103, 30.892572378256215, 22.60237111071107, 24.685643697144243, 35.86195873631837, 33.60287615521954, 32.58804085881222, 34.708051992950246, 30.959993198690643, 30.47235490945731, 33.11862186094578, 32.15190019400222, 31.583073161110086, 40.77890650137058, 36.2340322391443, 32.77576041957503, 34.81194629323369, 30.32367884010245, 30.88109842400415, 29.397557064528947, 37.24480147294092, 41.83064885506058, 42.99421838549362, 22.62968832730849, 23.616079636706875, 17.76509228435384, 23.48946807871534, 16.958737538763007, 22.363033043080385, 17.025447235199977, 22.730711646256378, 25.16655045934924, 11.08457985143385, 24.443012816974427, 26.495880000193907, 28.176706546516694, 24.789167764744956, 29.564284331238227, 33.17521720492571, 23.75561208680393, 32.13861684687433, 29.65742785952401, 38.33728061076326, 39.79578234407174, 37.53634614729914, 32.32855843088966, 35.448201766234256, 31.180542067592327, 24.388935166022474, 33.22734434407055, 38.02023675762879, 37.13619099686416, 31.711715977398644, 25.17935463890272, 30.089702568671935, 32.661188689915306, 28.376088028163394, 28.366669551544728, 27.239776628672185, 23.65256421250364, 24.04779991732201, 27.35469295088294, 16.25582101523188, 13.341728734865033, 19.98853240541414, 19.80620595904912, 21.261838733868053, 24.082479679870275, 24.2021088608403, 25.035634522363416, 24.934458992009684, 30.007985922714546, 24.032625860919516, 21.76211250917312, 37.363996006266476, 43.31706217180396, 36.4427977099469, 34.92929382544697, 34.783227190668185, 37.13926091397635, 40.9907409052587, 34.41612485563064, 35.79504137150163, 28.172743595262453, 31.19888966065735, 40.836765364070764, 39.28808300071366, 25.637696991317675, 22.174564408497456, 27.096857570817185, 28.38539604325641, 35.46717966333802, 36.06036707460282, 33.6757465771264, 35.57670377128682, 34.80227754009534, 30.23276261867128, 35.156204446404516, 38.6547765034206, 34.17960958140739, 40.27116048825995, 44.629433310328686, 31.627771582433386, 27.46303705459868, 20.06657862816944, 26.90212328277454, 27.067576749278214, 26.798183619077406, 33.260182897207734, 34.23933167095279, 31.655292550642123, 25.696843944593454, 24.289539896528133, 28.34371518982327, 27.23067951008108, 19.389513022199765, 29.1682467735719, 31.998584406230897, 30.82693930250239, 28.87794390982667, 28.82920298155224, 32.757791472519315, 33.036237228067144, 30.562724884008787, 35.37125142472603, 32.500056231940036, 28.638107908360773, 23.57437038913931, 18.531774615873438, 26.88111528355229, 23.260160570504695, 25.532972744612902, 25.47905048851933, 20.516321022743735, 17.608988922733946, 18.36840885306019, 24.29899130078691, 21.33484615620487, 24.868369942885835, 24.847004557670218, 22.840258359116213, 19.398217044800486, 25.106982307803573, 24.675253808890265, 23.675133570682355, 19.327221160015142, 21.54770689527601, 24.6451486272846, 21.970570765498035, 20.07479807174568, 23.437331105703706, 22.045038694219347, 21.46088043419966, 20.519232323060088, 20.04886555268802, 19.165324896238175, 22.065847517068754, 21.142134227500495, 21.310490298857196, 30.47952807801215, 22.547041940633513, 27.818430445356125, 28.684155339870266, 16.767341701517815, 15.002989370176177, 25.320568249243205, 27.484921143984508, 22.430060263293342, 20.71716445189635, 20.805423263553614, 17.131337690690906, 25.084410222977965, 14.386289189457406, 16.664076675966665, 19.68860640934164, 22.75865294424961, 22.239523956399587, 19.172932826238117, 22.63144217043993, 18.898981442110426, 18.15059781862653, 20.255407112341043, 37.597986665793634, 14.124920335870621, 15.445459146465945, 10.69037332824932, 23.653278100294205, 32.63561678804777, 34.61091787403128, 24.865701609484645, 25.995421882176135, 6.0618023377769195, 0.7121514268091396, 25.32082269348348, 17.73873272541852, 20.212014299696907, 15.843981242078181, 16.81689049944898, 14.584529181165752, 18.464164776058293, 13.371077842047935, 13.002771780622759, 3.2320932212369904, 8.0304754366109, 6.091781525824597, 5.604267840880722, 6.399079260245973, 14.138682212545529, 17.146711777769667, 17.25536637747386, 9.829221792631309, 20.175906981678917, 17.899428482396427, 20.26838217014016, 19.254814271728872, 16.275307558274935, 6.587231591523553, 10.87430864543771, 11.891248203071143, 17.791635863234557, 18.230237283877067, 12.955654588621421, 7.432442830982149, 8.328023860426324, 7.978646050250344, 19.90471825781328, 13.624761444419907, 19.82469081348371, 15.247120068527394, 16.929268302646335, 1.649629622853091, 11.75673818451248, -4.242268704785328, 9.595477254566765, 13.371283742137862, 6.890803143644024, 6.288668702703382, 14.632721079594765, 19.572946927878483, 18.07517537392014, 18.445543550093703, 13.124152634666157, 14.55111652909677, 9.904662327796867, 16.296251380291164, 14.12584990849815, 14.231349132480073, 13.020628308098857, 18.100337634042003, 18.656287900464427, 21.463413621003458, 17.00279126317599, 15.940795710021987, 13.37168724839457, 14.527228649484039, 8.827098587018515, 4.884178900950282, 13.029144647192542, 12.713184836955751, 17.280405734292078, 18.69901555233192, 18.04405036282131, 11.498377996982448, 11.978620857051101, 17.654439977042095, 18.101667459810955, 17.481899995818775, 17.198080493375485, 16.50912330090185, 19.38287044533898, 18.54146673442629, 22.491989738165334, 15.27495005484621, 15.798474687395665, 12.645579197761982, 12.845839437670225, 17.160311464203648, 18.469946464432823, 19.024086567109645, 20.12821930806396, 19.739641220104538, 22.388029153870473, 20.278467594983702, 17.831035692837567, 14.310899139052937, 16.860649787295834, 16.937282538633628, 18.53081349086717, 20.08306855123015, 22.868511110551413, 22.382722607158094, 25.539647040046525, 16.2869064129708, 16.038890513915486, 20.470786809854314, 11.473603607929874, 19.14215843319112, 21.811145685855283, 23.382024694217673, 27.017395197727033, 28.497141585796882, 20.989340559090852, 19.383022998358037, 22.157578636547427, 19.576014770814208, 21.248936523134084, 12.388378022213411, 8.762055736633027, 4.201278217862406, 14.306515753753654, 16.481938978376412, 20.75412279634218, 20.759884858145636, 17.041115662632684, 14.131596086629356, 19.231043846660178, 21.430311992005628, 18.56811901601539, 20.592852533567232, 23.57836566994574, 22.396165506864698, 27.66240175310435, 26.15939095477346, 22.35625671166215]\n"
     ]
    }
   ],
   "source": [
    "y_ = []\n",
    "for i in range(X.shape[0]):\n",
    "    pred = hypothesis(X[i], theta)\n",
    "    y_.append(pred)\n",
    "print(y_)"
   ]
  },
  {
   "cell_type": "code",
   "execution_count": 81,
   "metadata": {
    "scrolled": true
   },
   "outputs": [
    {
     "name": "stdout",
     "output_type": "stream",
     "text": [
      "[30.18633694 24.99095484 30.56568098 28.6220126  27.9619464  25.24452832\n",
      " 22.96581931 19.4959112  11.48031987 18.87883585 18.97129884 21.54039453\n",
      " 20.89285327 19.60128149 19.32367393 19.3458686  20.59832729 16.95783793\n",
      " 16.23493881 18.44548854 12.55479461 17.70925422 15.88547043 13.84190443\n",
      " 15.71570947 13.4205508  15.49775358 14.75818241 19.59955913 20.93977682\n",
      " 11.49745095 18.09361635  8.88301038 14.31610222 13.75983633 23.77730951\n",
      " 22.30988941 23.08772244 22.90940545 31.27562517 34.14934567 27.99150715\n",
      " 25.15161107 24.56195221 22.86665722 22.01299699 20.35079995 17.94239765\n",
      "  9.0032359  17.10959314 21.16463059 23.8404942  27.56319999 23.94281148\n",
      " 15.70766609 30.96324445 24.93746243 32.91466583 21.63293708 20.92400291\n",
      " 17.6977369  18.32617385 23.82616369 22.4283064  23.34895856 30.37522177\n",
      " 25.5255783  21.2306401  17.52571154 20.89494847 25.20175729 21.72374982\n",
      " 24.54156678 24.03905863 25.62679124 24.06381642 23.02484813 23.44984561\n",
      " 21.35657377 22.51629435 28.40848967 26.96899155 26.0263214  25.03478105\n",
      " 24.79279036 27.79575063 22.17067399 25.88154887 30.78085348 30.95800581\n",
      " 27.22453062 27.51066854 28.71288943 28.859444   26.79054644 28.75132406\n",
      " 24.83596211 35.94281395 35.29511986 32.40179358 24.75516584 25.77444454\n",
      " 19.95640618 20.46644109 21.58632495 18.68176932 17.33656725 20.90711862\n",
      " 22.80555026 19.93114262 20.83065748 26.72618732 20.94596258 20.89490035\n",
      " 25.35381775 20.60731806 23.5681151  23.86484071 20.52156256 20.97469607\n",
      " 21.46430039 22.01300726 20.09753035 15.91329192 20.09521555 22.02074575\n",
      " 14.15984655 15.25545131 19.03740999 14.1352851  20.13025782 19.50313176\n",
      " 20.15288628 15.83693395 13.33844552 17.36216855 15.96622551 19.46024179\n",
      " 13.90315188 16.54388879 13.68013927  4.07198338 14.72017174 12.20784414\n",
      "  8.76929608 12.12027516 15.86629239  8.55791283  9.77073593 14.86013526\n",
      " 20.8952471  18.32765139 20.21117474 17.33271057 22.49615131 20.25459101\n",
      " 13.65952896 33.2468105  28.98648563 25.62406378 32.74562707 36.7823308\n",
      " 40.64269162 41.95843663 24.75521343 25.35466422 37.22852041 23.0666828\n",
      " 26.38364858 26.63892348 22.52389982 24.25575334 22.97600489 29.09572209\n",
      " 26.53800723 30.78324212 25.65654447 29.16112396 31.47969566 32.86492694\n",
      " 34.68152029 27.68209514 33.81087102 30.89257238 22.60237111 24.6856437\n",
      " 35.86195874 33.60287616 32.58804086 34.70805199 30.9599932  30.47235491\n",
      " 33.11862186 32.15190019 31.58307316 40.7789065  36.23403224 32.77576042\n",
      " 34.81194629 30.32367884 30.88109842 29.39755706 37.24480147 41.83064886\n",
      " 42.99421839 22.62968833 23.61607964 17.76509228 23.48946808 16.95873754\n",
      " 22.36303304 17.02544724 22.73071165 25.16655046 11.08457985 24.44301282\n",
      " 26.49588    28.17670655 24.78916776 29.56428433 33.1752172  23.75561209\n",
      " 32.13861685 29.65742786 38.33728061 39.79578234 37.53634615 32.32855843\n",
      " 35.44820177 31.18054207 24.38893517 33.22734434 38.02023676 37.136191\n",
      " 31.71171598 25.17935464 30.08970257 32.66118869 28.37608803 28.36666955\n",
      " 27.23977663 23.65256421 24.04779992 27.35469295 16.25582102 13.34172873\n",
      " 19.98853241 19.80620596 21.26183873 24.08247968 24.20210886 25.03563452\n",
      " 24.93445899 30.00798592 24.03262586 21.76211251 37.36399601 43.31706217\n",
      " 36.44279771 34.92929383 34.78322719 37.13926091 40.99074091 34.41612486\n",
      " 35.79504137 28.1727436  31.19888966 40.83676536 39.288083   25.63769699\n",
      " 22.17456441 27.09685757 28.38539604 35.46717966 36.06036707 33.67574658\n",
      " 35.57670377 34.80227754 30.23276262 35.15620445 38.6547765  34.17960958\n",
      " 40.27116049 44.62943331 31.62777158 27.46303705 20.06657863 26.90212328\n",
      " 27.06757675 26.79818362 33.2601829  34.23933167 31.65529255 25.69684394\n",
      " 24.2895399  28.34371519 27.23067951 19.38951302 29.16824677 31.99858441\n",
      " 30.8269393  28.87794391 28.82920298 32.75779147 33.03623723 30.56272488\n",
      " 35.37125142 32.50005623 28.63810791 23.57437039 18.53177462 26.88111528\n",
      " 23.26016057 25.53297274 25.47905049 20.51632102 17.60898892 18.36840885\n",
      " 24.2989913  21.33484616 24.86836994 24.84700456 22.84025836 19.39821704\n",
      " 25.10698231 24.67525381 23.67513357 19.32722116 21.5477069  24.64514863\n",
      " 21.97057077 20.07479807 23.43733111 22.04503869 21.46088043 20.51923232\n",
      " 20.04886555 19.1653249  22.06584752 21.14213423 21.3104903  30.47952808\n",
      " 22.54704194 27.81843045 28.68415534 16.7673417  15.00298937 25.32056825\n",
      " 27.48492114 22.43006026 20.71716445 20.80542326 17.13133769 25.08441022\n",
      " 14.38628919 16.66407668 19.68860641 22.75865294 22.23952396 19.17293283\n",
      " 22.63144217 18.89898144 18.15059782 20.25540711 37.59798667 14.12492034\n",
      " 15.44545915 10.69037333 23.6532781  32.63561679 34.61091787 24.86570161\n",
      " 25.99542188  6.06180234  0.71215143 25.32082269 17.73873273 20.2120143\n",
      " 15.84398124 16.8168905  14.58452918 18.46416478 13.37107784 13.00277178\n",
      "  3.23209322  8.03047544  6.09178153  5.60426784  6.39907926 14.13868221\n",
      " 17.14671178 17.25536638  9.82922179 20.17590698 17.89942848 20.26838217\n",
      " 19.25481427 16.27530756  6.58723159 10.87430865 11.8912482  17.79163586\n",
      " 18.23023728 12.95565459  7.43244283  8.32802386  7.97864605 19.90471826\n",
      " 13.62476144 19.82469081 15.24712007 16.9292683   1.64962962 11.75673818\n",
      " -4.2422687   9.59547725 13.37128374  6.89080314  6.2886687  14.63272108\n",
      " 19.57294693 18.07517537 18.44554355 13.12415263 14.55111653  9.90466233\n",
      " 16.29625138 14.12584991 14.23134913 13.02062831 18.10033763 18.6562879\n",
      " 21.46341362 17.00279126 15.94079571 13.37168725 14.52722865  8.82709859\n",
      "  4.8841789  13.02914465 12.71318484 17.28040573 18.69901555 18.04405036\n",
      " 11.498378   11.97862086 17.65443998 18.10166746 17.4819     17.19808049\n",
      " 16.5091233  19.38287045 18.54146673 22.49198974 15.27495005 15.79847469\n",
      " 12.6455792  12.84583944 17.16031146 18.46994646 19.02408657 20.12821931\n",
      " 19.73964122 22.38802915 20.27846759 17.83103569 14.31089914 16.86064979\n",
      " 16.93728254 18.53081349 20.08306855 22.86851111 22.38272261 25.53964704\n",
      " 16.28690641 16.03889051 20.47078681 11.47360361 19.14215843 21.81114569\n",
      " 23.38202469 27.0173952  28.49714159 20.98934056 19.383023   22.15757864\n",
      " 19.57601477 21.24893652 12.38837802  8.76205574  4.20127822 14.30651575\n",
      " 16.48193898 20.7541228  20.75988486 17.04111566 14.13159609 19.23104385\n",
      " 21.43031199 18.56811902 20.59285253 23.57836567 22.39616551 27.66240175\n",
      " 26.15939095 22.35625671]\n"
     ]
    }
   ],
   "source": [
    "y_ = np.array(y_)\n",
    "print(y_)"
   ]
  },
  {
   "cell_type": "code",
   "execution_count": 83,
   "metadata": {},
   "outputs": [],
   "source": [
    "def r2_score(y, y_):\n",
    "    num = np.sum((y - y_) ** 2)\n",
    "    denom = np.sum((y - y.mean()) ** 2)\n",
    "    score = (1 - num / denom)\n",
    "    return score * 100"
   ]
  },
  {
   "cell_type": "code",
   "execution_count": 85,
   "metadata": {},
   "outputs": [
    {
     "data": {
      "text/plain": [
       "74.04541323942743"
      ]
     },
     "execution_count": 85,
     "metadata": {},
     "output_type": "execute_result"
    }
   ],
   "source": [
    "#Score\n",
    "r2_score(y, y_) "
   ]
  },
  {
   "cell_type": "markdown",
   "metadata": {},
   "source": [
    "# Slow implementation, only for 506 samples, improve this"
   ]
  },
  {
   "cell_type": "markdown",
   "metadata": {},
   "source": [
    "---"
   ]
  },
  {
   "cell_type": "markdown",
   "metadata": {},
   "source": [
    "# Efficient code using Vectorization"
   ]
  },
  {
   "cell_type": "markdown",
   "metadata": {},
   "source": [
    "---"
   ]
  },
  {
   "cell_type": "code",
   "execution_count": null,
   "metadata": {},
   "outputs": [],
   "source": []
  }
 ],
 "metadata": {
  "kernelspec": {
   "display_name": "Python 3",
   "language": "python",
   "name": "python3"
  },
  "language_info": {
   "codemirror_mode": {
    "name": "ipython",
    "version": 3
   },
   "file_extension": ".py",
   "mimetype": "text/x-python",
   "name": "python",
   "nbconvert_exporter": "python",
   "pygments_lexer": "ipython3",
   "version": "3.8.5"
  }
 },
 "nbformat": 4,
 "nbformat_minor": 4
}
