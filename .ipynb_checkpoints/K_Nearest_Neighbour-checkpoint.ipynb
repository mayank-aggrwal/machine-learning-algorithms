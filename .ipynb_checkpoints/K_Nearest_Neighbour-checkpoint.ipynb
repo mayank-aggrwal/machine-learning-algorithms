{
 "cells": [
  {
   "cell_type": "code",
   "execution_count": null,
   "metadata": {},
   "outputs": [],
   "source": [
    "import numpy as np\n",
    "import pandas as pd\n",
    "import matplotlib.pyplot as plt"
   ]
  },
  {
   "cell_type": "code",
   "execution_count": null,
   "metadata": {},
   "outputs": [],
   "source": [
    "plt.style.use('seaborn')"
   ]
  },
  {
   "cell_type": "code",
   "execution_count": null,
   "metadata": {},
   "outputs": [],
   "source": [
    "dfX = pd.read_csv('Datasets/xdata.csv')\n",
    "dfY = pd.read_csv('Datasets/ydata.csv')\n",
    "X = dfX.values\n",
    "Y = dfY.values"
   ]
  },
  {
   "cell_type": "code",
   "execution_count": null,
   "metadata": {},
   "outputs": [],
   "source": [
    "X = X[:, 1:]\n",
    "# print(X)\n",
    "\n",
    "# Y = Y[:, 1:].reshape((1, 399))[0]\n",
    "Y = Y[:, 1:].reshape((-1,))\n",
    "# print(Y)"
   ]
  },
  {
   "cell_type": "code",
   "execution_count": null,
   "metadata": {},
   "outputs": [],
   "source": [
    "# print(X)\n",
    "print(X.shape)\n",
    "# print(Y)\n",
    "print(Y.shape)"
   ]
  },
  {
   "cell_type": "code",
   "execution_count": null,
   "metadata": {},
   "outputs": [],
   "source": [
    "query_pt = np.array([2, 3])\n",
    "plt.scatter(X[:, 0], X[:, 1], c=Y)\n",
    "plt.scatter(query_pt[0], query_pt[1], color='Red')\n",
    "plt.show()"
   ]
  },
  {
   "cell_type": "code",
   "execution_count": null,
   "metadata": {},
   "outputs": [],
   "source": [
    "Xd = X[:, 0]\n",
    "print(type(Xd))\n",
    "# print(Xd)\n",
    "print(X[0])\n",
    "print(type(X[0]))"
   ]
  },
  {
   "cell_type": "markdown",
   "metadata": {},
   "source": [
    "### KNN Implementation"
   ]
  },
  {
   "cell_type": "code",
   "execution_count": null,
   "metadata": {},
   "outputs": [],
   "source": [
    "def dist(x1, x2):\n",
    "    return np.sqrt(sum((x1 - x2) ** 2))"
   ]
  },
  {
   "cell_type": "code",
   "execution_count": null,
   "metadata": {},
   "outputs": [],
   "source": [
    "def knn(X, Y, query_pt, k=5):\n",
    "    vals = []\n",
    "    m = X.shape[0]\n",
    "    \n",
    "    for i in range(m):\n",
    "        d = dist(X[i], query_pt)\n",
    "        vals.append([d, Y[i]])\n",
    "        \n",
    "    vals = sorted(vals)\n",
    "    \n",
    "    vals = np.array(vals)\n",
    "    vals = vals[:k, :]\n",
    "    \n",
    "    counts = np.unique(vals[:, 1], return_counts=True)\n",
    "    idx = counts[1].argmax()\n",
    "    pred = counts[0][idx]\n",
    "    return pred"
   ]
  },
  {
   "cell_type": "code",
   "execution_count": null,
   "metadata": {},
   "outputs": [],
   "source": [
    "plt.scatter(X[:, 0], X[:, 1], c=Y)\n",
    "plt.scatter(query_pt[0], query_pt[1], color='Red')\n",
    "plt.show()"
   ]
  },
  {
   "cell_type": "code",
   "execution_count": null,
   "metadata": {},
   "outputs": [],
   "source": [
    "query_pt = np.array([0, 0])\n",
    "\n",
    "print(knn(X, Y, query_pt, 5))\n",
    "plt.scatter(X[:, 0], X[:, 1], c=Y)\n",
    "plt.scatter(query_pt[0], query_pt[1], color='Red')\n",
    "plt.show()"
   ]
  },
  {
   "cell_type": "code",
   "execution_count": null,
   "metadata": {},
   "outputs": [],
   "source": []
  },
  {
   "cell_type": "code",
   "execution_count": null,
   "metadata": {},
   "outputs": [],
   "source": []
  }
 ],
 "metadata": {
  "kernelspec": {
   "display_name": "Python 3",
   "language": "python",
   "name": "python3"
  },
  "language_info": {
   "codemirror_mode": {
    "name": "ipython",
    "version": 3
   },
   "file_extension": ".py",
   "mimetype": "text/x-python",
   "name": "python",
   "nbconvert_exporter": "python",
   "pygments_lexer": "ipython3",
   "version": "3.8.5"
  }
 },
 "nbformat": 4,
 "nbformat_minor": 4
}
