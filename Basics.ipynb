{
 "cells": [
  {
   "cell_type": "code",
   "execution_count": null,
   "metadata": {},
   "outputs": [],
   "source": [
    "# Python is a dynamically typed language\n",
    "\n",
    "a = \"Hello world!\"\n",
    "print(a)\n",
    "print(type(a))\n",
    "\n",
    "a = 10\n",
    "print(a)\n",
    "print(type(a))\n",
    "\n",
    "a = True\n",
    "print(a)\n",
    "print(type(a))\n",
    "\n",
    "a = 1.5\n",
    "print(a)\n",
    "print(type(a))"
   ]
  },
  {
   "cell_type": "code",
   "execution_count": 4,
   "metadata": {},
   "outputs": [
    {
     "name": "stdout",
     "output_type": "stream",
     "text": [
      "This is not a \n",
      "multiline comment\n",
      "<class 'str'>\n"
     ]
    }
   ],
   "source": [
    "# Comments in Python\n",
    "\n",
    "# Single line comment\n",
    "strg = \"\"\"This is not a \n",
    "multiline comment\"\"\"\n",
    "print(strg, type(strg), sep='\\n')"
   ]
  },
  {
   "cell_type": "markdown",
   "metadata": {},
   "source": [
    "## Literal constants\n",
    "\n",
    "### Numbers\n",
    "- Integers\n",
    "- Floats\n",
    "\n",
    "### Strings\n",
    "- Single quotes\n",
    "- Double quotes\n",
    "- Triple quotes\n",
    "- Escape sequences\n",
    "\n",
    "### Bool\n",
    "\n",
    "### Types :\n",
    "- Integers\n",
    "- Floats\n",
    "- String\n",
    "- Bool"
   ]
  },
  {
   "cell_type": "code",
   "execution_count": 3,
   "metadata": {},
   "outputs": [
    {
     "name": "stdout",
     "output_type": "stream",
     "text": [
      "Enter a number: 8\n",
      "You entered 8\n",
      "<class 'str'>\n",
      "8\n",
      "<class 'int'>\n"
     ]
    }
   ],
   "source": [
    "# Taking input in Python\n",
    "\n",
    "a = input('Enter a number: ')\n",
    "print('You entered {}'.format(a))\n",
    "print(type(a))\n",
    "\n",
    "num_a = int(a)\n",
    "print(a, type(num_a), sep='\\n')"
   ]
  },
  {
   "cell_type": "code",
   "execution_count": 9,
   "metadata": {},
   "outputs": [
    {
     "name": "stdout",
     "output_type": "stream",
     "text": [
      "Before conversion\n",
      "1 2 3 4 5\n",
      "['1', '2', '3', '4', '5']\n",
      "<class 'str'>\n",
      "After conversion\n",
      "[1, 2, 3, 4, 5]\n",
      "<class 'int'>\n"
     ]
    }
   ],
   "source": [
    "# Taking list of numbers as input\n",
    "\n",
    "print('Before conversion')\n",
    "v = input().split()\n",
    "print(v, type(v[0]), sep='\\n')\n",
    "\n",
    "for i in range(len(v)):\n",
    "    v[i] = int(v[i])\n",
    "    \n",
    "print('After conversion')\n",
    "print(v, type(v[0]), sep='\\n')"
   ]
  },
  {
   "cell_type": "markdown",
   "metadata": {},
   "source": [
    "## List comprehension for taking input"
   ]
  },
  {
   "cell_type": "code",
   "execution_count": 10,
   "metadata": {},
   "outputs": [
    {
     "name": "stdout",
     "output_type": "stream",
     "text": [
      "1 2 3 4 5\n",
      "[1, 2, 3, 4, 5]\n",
      "<class 'int'>\n"
     ]
    }
   ],
   "source": [
    "v = [int(num) for num in input().split()]\n",
    "print(v, type(v[0]), sep='\\n')"
   ]
  },
  {
   "cell_type": "code",
   "execution_count": 27,
   "metadata": {},
   "outputs": [
    {
     "name": "stdout",
     "output_type": "stream",
     "text": [
      "['s', 'h', 'a', 'r', 'k']\n",
      "<class 'list'>\n",
      "[2, 44, 6]\n",
      "<class 'list'>\n",
      "[2, 10, 6, 14, 18, 90, 154, 6, 178, 106]\n",
      "<class 'list'>\n",
      "[4, 2, 1, 20, 10, 5, 28, 14, 7]\n"
     ]
    }
   ],
   "source": [
    "# List Comprehension examples\n",
    "\n",
    "shark_letters_list = [letter for letter in 'shark']\n",
    "print(shark_letters_list, type(shark_letters_list), sep='\\n')\n",
    "\n",
    "# Find all the even numbers from a list of numbers\n",
    "v = [1,5,3,2,7,9,45,77,44,3,6,89,53]\n",
    "even_nums = [num for num in v if num % 2 == 0]\n",
    "print(even_nums, type(even_nums), sep='\\n')\n",
    "\n",
    "# Increment all odd numbers by itself or simply double them\n",
    "v = [1,5,3,2,7,9,45,77,44,3,6,89,53]\n",
    "odd_nums_modified = [num * 2 for num in v if num & 1]\n",
    "print(odd_nums_modified, type(odd_nums_modified), sep='\\n')\n",
    "\n",
    "li = [i * j for i in [1,5,7] for j in [4,2,1]]\n",
    "print(li)"
   ]
  },
  {
   "cell_type": "code",
   "execution_count": 11,
   "metadata": {},
   "outputs": [
    {
     "name": "stdout",
     "output_type": "stream",
     "text": [
      "1 6 22 45 11 99 65 90 31 82 31 59 1\n",
      "Maximum is: 99\n"
     ]
    }
   ],
   "source": [
    "# Find the maximum in a list of positive integers\n",
    "\n",
    "v = [int(num) for num in input().split()]\n",
    "M = -1 # See alternative to INT_MIN in python\n",
    "for i in v:\n",
    "    if i > M:\n",
    "        M = i\n",
    "print('Maximum is: {}'.format(M))"
   ]
  },
  {
   "cell_type": "code",
   "execution_count": 18,
   "metadata": {},
   "outputs": [
    {
     "name": "stdout",
     "output_type": "stream",
     "text": [
      "List of numbers given:[1, 1, 3, 4, 3, 2, 7, 9, 6, 3, 2, 9, 7, 4, 4, 4]\n",
      "Most frequent number is 4, which occurs 4 times\n",
      "Most frequent number is 4, which occurs 4 times\n"
     ]
    }
   ],
   "source": [
    "# Find the most frequent number in a list of integers\n",
    "\n",
    "v = [1,1,3,4,3,2,7,9,6,3,2,9,7,4,4,4]\n",
    "print('List of numbers given:', v, sep=\"\")\n",
    "\n",
    "map = {}\n",
    "max_freq = 0\n",
    "ans = -1\n",
    "for num in v:\n",
    "    if map.get(num) is not None:\n",
    "        map[num] += 1\n",
    "    else:\n",
    "        map[num] = 1\n",
    "    if map[num] > max_freq:\n",
    "        max_freq = map[num]\n",
    "        ans = num\n",
    "\n",
    "print('Most frequent number is {}, which occurs {} times'.format(ans, max_freq))\n",
    "print('Most frequent number is %d, which occurs %d times' % (ans, max_freq))"
   ]
  },
  {
   "cell_type": "code",
   "execution_count": 22,
   "metadata": {},
   "outputs": [
    {
     "name": "stdout",
     "output_type": "stream",
     "text": [
      "Bulbasaur,Charmender,Invalid,Pikachu,Bulbasaur,Bulbasaur,Charmender,Pikachu,Charmender,Charmender,Charmender,Charmender,Pikachu,Invalid,Invalid,Charmender,Pikachu,Invalid,\n",
      "Bulbasaur,Charmender,Invalid,Pikachu,Bulbasaur,Bulbasaur,Charmender,Pikachu,Charmender,Charmender,Charmender,Charmender,Pikachu,Invalid,Invalid,Charmender,Pikachu,Invalid,"
     ]
    }
   ],
   "source": [
    "# Given a list of integers, find the mapping to the pokemons\n",
    "# 1 - Bulbasaur, 2 - Pikachu, 3 - Charmender\n",
    "\n",
    "v = [1,3,4,2,1,1,3,2,3,3,3,3,2,5,4,3,2,6]\n",
    "\n",
    "# Method - I\n",
    "for choice in v:\n",
    "    if choice == 1:\n",
    "        print('Bulbasaur', end=',')\n",
    "    elif choice == 2:\n",
    "        print('Pikachu', end=',')\n",
    "    elif choice == 3:\n",
    "        print('Charmender', end=',')\n",
    "    else:\n",
    "        print('Invalid', end=',')\n",
    "print()\n",
    "\n",
    "# Method - II\n",
    "map = {\n",
    "    1: 'Bulbasaur',\n",
    "    2: 'Pikachu',\n",
    "    3: 'Charmender'\n",
    "}\n",
    "for choice in v:\n",
    "    if map.get(choice) is not None:\n",
    "        print(map[choice], end=',')\n",
    "    else:\n",
    "        print('Invalid', end=',')"
   ]
  },
  {
   "cell_type": "code",
   "execution_count": 3,
   "metadata": {},
   "outputs": [
    {
     "name": "stdout",
     "output_type": "stream",
     "text": [
      "Charmender,Pikachu,Bulbasaur,Bulbasaur,Pikachu,Invalid,Bulbasaur,Pikachu,Bulbasaur,Charmender,Invalid,Bulbasaur,Charmender,Charmender,Pikachu,Invalid,Invalid,Pikachu,Bulbasaur,Charmender,Bulbasaur,Charmender,Pikachu,"
     ]
    }
   ],
   "source": [
    "def printPokemons(arr, map):\n",
    "    for num in arr:\n",
    "        if map.get(num) is not None:\n",
    "            print(map[num], end=',')\n",
    "        else:\n",
    "            print('Invalid', end=',')\n",
    "            \n",
    "map = {\n",
    "    1: 'Bulbasaur',\n",
    "    2: 'Charmender',\n",
    "    3: 'Pikachu'\n",
    "}\n",
    "\n",
    "arr = [2,3,1,1,3,6,1,3,1,2,7,1,2,2,3,8,9,3,1,2,1,2,3]\n",
    "\n",
    "printPokemons(arr, map)"
   ]
  },
  {
   "cell_type": "code",
   "execution_count": 5,
   "metadata": {},
   "outputs": [
    {
     "name": "stdout",
     "output_type": "stream",
     "text": [
      "It's a sunny day\n"
     ]
    }
   ],
   "source": [
    "# If-else condition\n",
    "\n",
    "weather = 'Sunny'\n",
    "if weather == 'Rainy':\n",
    "    print(\"It's a rainy day.\")\n",
    "elif weather == 'Windy':\n",
    "    print(\"It's a windy day\")\n",
    "else:\n",
    "    print(\"It's a sunny day\")"
   ]
  },
  {
   "cell_type": "code",
   "execution_count": 7,
   "metadata": {},
   "outputs": [
    {
     "name": "stdout",
     "output_type": "stream",
     "text": [
      "My name is Mayank and I am 21 years old.\n",
      "Capital of India is New Delhi located at 77, 84.500000\n"
     ]
    }
   ],
   "source": [
    "# Different ways to print\n",
    "\n",
    "print('My name is {} and I am {} years old.'.format('Mayank', 21))\n",
    "print('Capital of %s is %s located at %d, %f' % ('India', 'New Delhi', 77, 84.5))"
   ]
  },
  {
   "cell_type": "code",
   "execution_count": null,
   "metadata": {},
   "outputs": [],
   "source": []
  }
 ],
 "metadata": {
  "kernelspec": {
   "display_name": "Python 3",
   "language": "python",
   "name": "python3"
  },
  "language_info": {
   "codemirror_mode": {
    "name": "ipython",
    "version": 3
   },
   "file_extension": ".py",
   "mimetype": "text/x-python",
   "name": "python",
   "nbconvert_exporter": "python",
   "pygments_lexer": "ipython3",
   "version": "3.8.5"
  }
 },
 "nbformat": 4,
 "nbformat_minor": 4
}
