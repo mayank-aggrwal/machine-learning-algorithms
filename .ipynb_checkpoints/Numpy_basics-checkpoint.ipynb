{
 "cells": [
  {
   "cell_type": "code",
   "execution_count": 2,
   "metadata": {},
   "outputs": [],
   "source": [
    "import numpy as np"
   ]
  },
  {
   "cell_type": "code",
   "execution_count": 5,
   "metadata": {},
   "outputs": [
    {
     "data": {
      "text/plain": [
       "5"
      ]
     },
     "execution_count": 5,
     "metadata": {},
     "output_type": "execute_result"
    }
   ],
   "source": [
    "np.absolute(-5)"
   ]
  },
  {
   "cell_type": "code",
   "execution_count": 2,
   "metadata": {},
   "outputs": [
    {
     "name": "stdout",
     "output_type": "stream",
     "text": [
      "[1 2 3 4 5], <class 'numpy.ndarray'>\n",
      "(5,)\n",
      "[[1 2 3 4]\n",
      " [5 6 7 8]], <class 'numpy.ndarray'>\n",
      "(2, 4)\n",
      "mat[0][0]: 1, mat[1][2]: 7\n"
     ]
    }
   ],
   "source": [
    "# Generating numpy arrays\n",
    "\n",
    "arr = np.array([1,2,3,4,5])\n",
    "print(arr, type(arr), sep=\", \")\n",
    "print(arr.shape)\n",
    "\n",
    "mat = np.array([[1,2,3,4],[5,6,7,8]])\n",
    "print(mat, type(mat), sep=\", \")\n",
    "print(mat.shape)\n",
    "\n",
    "print('mat[0][0]: {}, mat[1][2]: {}'.format(mat[0][0], mat[1][2]))"
   ]
  },
  {
   "cell_type": "code",
   "execution_count": 9,
   "metadata": {},
   "outputs": [
    {
     "name": "stdout",
     "output_type": "stream",
     "text": [
      "[[1 2]\n",
      " [3 4]]\n",
      "[[1 3]\n",
      " [2 4]]\n",
      "[[ 5 11]\n",
      " [11 25]], <class 'numpy.ndarray'>\n"
     ]
    }
   ],
   "source": [
    "# Taking dot product\n",
    "\n",
    "a = np.array([[1,2],[3,4]])\n",
    "print(a)\n",
    "print(a.T)\n",
    "\n",
    "dot_prod = np.dot(a, a.T)\n",
    "print(dot_prod, type(dot_prod), sep=', ')"
   ]
  },
  {
   "cell_type": "code",
   "execution_count": 10,
   "metadata": {},
   "outputs": [
    {
     "name": "stdout",
     "output_type": "stream",
     "text": [
      "Min is: 1\n",
      "Max is: 99\n"
     ]
    }
   ],
   "source": [
    "# Finding maximum and minimum values\n",
    "\n",
    "a = np.array([1,3,6,32,67,32,97,21,99,43,27])\n",
    "min_a = np.min(a)\n",
    "max_a = np.max(a)\n",
    "\n",
    "print('Min is: {}'.format(min_a))\n",
    "print('Max is: {}'.format(max_a))"
   ]
  },
  {
   "cell_type": "code",
   "execution_count": 18,
   "metadata": {},
   "outputs": [
    {
     "name": "stdout",
     "output_type": "stream",
     "text": [
      "np.argmax(a) : 3 , np.argmin(a) : 0\n",
      "[1 2 3 4 5 6 7 8]\n",
      "(array([1, 2, 3, 4, 5, 6, 7, 8]), array([3, 3, 1, 2, 1, 2, 1, 1])) ; 0\n",
      "Most frequent number is: 1\n"
     ]
    }
   ],
   "source": [
    "# Find the most frequent number\n",
    "\n",
    "a = np.array([1,7,3,9,3,5])\n",
    "print('np.argmax(a) : {} , np.argmin(a) : {}'.format(np.argmax(a), np.argmin(a)))\n",
    "\n",
    "a = np.array([1,6,5,1,6,4,4,7,8,2,2,3,1,2])\n",
    "unique_a = np.unique(a)\n",
    "print(unique_a)\n",
    "\n",
    "unique_a = np.unique(a, return_counts = True)\n",
    "idx = np.argmax(unique_a[1])\n",
    "print(unique_a, idx, sep=' ; ')\n",
    "\n",
    "most_frequent = unique_a[0][idx]\n",
    "print('Most frequent number is: {}'.format(most_frequent))"
   ]
  },
  {
   "cell_type": "code",
   "execution_count": 31,
   "metadata": {},
   "outputs": [
    {
     "name": "stdout",
     "output_type": "stream",
     "text": [
      "[[ 1  2  3  4]\n",
      " [ 5  6  7  8]\n",
      " [ 9 10 11 12]\n",
      " [13 14 15 16]]\n",
      "\n",
      "Sliced matrix =\n",
      " [[ 6  7  8]\n",
      " [10 11 12]]\n",
      "\n",
      "Element at a[1][3] = 8\n",
      "[[ 6  0  0]\n",
      " [10  0  0]]\n"
     ]
    }
   ],
   "source": [
    "# Slicing in numpy arrays\n",
    "\n",
    "a = np.array([[1,2,3,4],[5,6,7,8],[9,10,11,12],[13,14,15,16]])\n",
    "print(a)\n",
    "\n",
    "sliced_mat = a[1:3, 1:]\n",
    "print('\\nSliced matrix =\\n', sliced_mat)\n",
    "\n",
    "print('\\nElement at a[1][3] =', a[1][3])\n",
    "\n",
    "sliced_mat[:, 1:] = 0\n",
    "print(sliced_mat)"
   ]
  },
  {
   "cell_type": "code",
   "execution_count": 33,
   "metadata": {},
   "outputs": [
    {
     "name": "stdout",
     "output_type": "stream",
     "text": [
      "Multiplying all elements by 2 = [ 2  4  6  8 10]\n",
      "Raise Power of all elements by 2 = [ 1  4  9 16 25]\n",
      "Adding all elements by 2 = [4 5 6 7 8]\n",
      "Subtracting all elements by 2 = [-2 -1  0  1  2]\n",
      "Dividing all elements by 2 = [0.33333333 0.66666667 1.         1.33333333 1.66666667]\n",
      "Int dividing all elements by 2 = [0 0 1 1 1]\n",
      "Xoring all elements by 2 = [2 1 0 7 6]\n"
     ]
    }
   ],
   "source": [
    "# Operations on all values of a numpy array with a constant\n",
    "\n",
    "a = np.array([1,2,3,4,5])\n",
    "print('Multiplying all elements by 2 =', a * 2)\n",
    "print('Raise Power of all elements by 2 =', a ** 2)\n",
    "print('Adding all elements by 2 =', a + 3)\n",
    "print('Subtracting all elements by 2 =', a - 3)\n",
    "print('Dividing all elements by 2 =', a / 3)\n",
    "print('Int dividing all elements by 2 =', a // 3)\n",
    "print('Xoring all elements by 2 =', a ^ 3)"
   ]
  },
  {
   "cell_type": "code",
   "execution_count": 21,
   "metadata": {},
   "outputs": [
    {
     "name": "stdout",
     "output_type": "stream",
     "text": [
      "np.random.randint(1000): 506\n",
      "np.random.randint(0, 1000, 5): [546 992 419 519 339]\n",
      "np.random.randint(60, 100, 5, dtype=int) [70 75 92 62 79]\n",
      "np.random.randint(60, 100, (5,5)) [[63 79 73 70 76]\n",
      " [72 92 64 70 80]\n",
      " [94 81 77 78 63]\n",
      " [73 98 60 95 65]\n",
      " [98 75 84 95 68]]\n",
      "np.random.randint(60, 100, (2,2,2)) [[[97 90]\n",
      "  [67 97]]\n",
      "\n",
      " [[77 69]\n",
      "  [65 81]]]\n"
     ]
    }
   ],
   "source": [
    "# Generating random numpy arrays\n",
    "\n",
    "a = np.random.randint(1000)\n",
    "print('np.random.randint(1000):', a)\n",
    "\n",
    "a = np.random.randint(0, 1000, 5)\n",
    "print('np.random.randint(0, 1000, 5):', a)\n",
    "\n",
    "a = np.random.randint(60, 100, 5, dtype=int)\n",
    "print('np.random.randint(60, 100, 5, dtype=int)', a)\n",
    "\n",
    "a = np.random.randint(60, 100, (5,5))\n",
    "print('np.random.randint(60, 100, (5,5))', a)\n",
    "\n",
    "a = np.random.randint(60, 100, (2,2,2))\n",
    "print('np.random.randint(60, 100, (2,2,2))', a)"
   ]
  },
  {
   "cell_type": "code",
   "execution_count": 10,
   "metadata": {},
   "outputs": [
    {
     "name": "stdout",
     "output_type": "stream",
     "text": [
      "[0. 0. 0. 0.]\n",
      "[0. 0. 0. 0.]\n",
      "[[0. 0. 0. 0. 0.]\n",
      " [0. 0. 0. 0. 0.]]\n",
      "[[[0. 0.]\n",
      "  [0. 0.]]\n",
      "\n",
      " [[0. 0.]\n",
      "  [0. 0.]]]\n",
      "1s...\n",
      "[1. 1. 1. 1.]\n",
      "[1. 1. 1. 1.]\n",
      "[[1. 1. 1. 1. 1.]\n",
      " [1. 1. 1. 1. 1.]]\n",
      "[[[1. 1.]\n",
      "  [1. 1.]]\n",
      "\n",
      " [[1. 1.]\n",
      "  [1. 1.]]]\n"
     ]
    }
   ],
   "source": [
    "# Create an array of zeros or ones\n",
    "\n",
    "a = np.zeros(4)\n",
    "print(a)\n",
    "\n",
    "a = np.zeros((4,))\n",
    "print(a)\n",
    "\n",
    "a = np.zeros((2,5))\n",
    "print(a)\n",
    "\n",
    "a = np.zeros((2,2,2))\n",
    "print(a)\n",
    "\n",
    "print('1s...')\n",
    "a = np.ones(4)\n",
    "print(a)\n",
    "\n",
    "a = np.ones((4,))\n",
    "print(a)\n",
    "\n",
    "a = np.ones((2,5))\n",
    "print(a)\n",
    "\n",
    "a = np.ones((2,2,2))\n",
    "print(a)"
   ]
  },
  {
   "cell_type": "code",
   "execution_count": 11,
   "metadata": {},
   "outputs": [
    {
     "name": "stdout",
     "output_type": "stream",
     "text": [
      "[[-1 -1 -1 -1]\n",
      " [-1 -1 -1 -1]\n",
      " [-1 -1 -1 -1]]\n"
     ]
    }
   ],
   "source": [
    "# Array of constants\n",
    "\n",
    "n = 3\n",
    "m = 4\n",
    "dp = np.full((n, m), -1)\n",
    "print(dp)"
   ]
  },
  {
   "cell_type": "code",
   "execution_count": 15,
   "metadata": {},
   "outputs": [
    {
     "name": "stdout",
     "output_type": "stream",
     "text": [
      "[[1. 0. 0.]\n",
      " [0. 1. 0.]\n",
      " [0. 0. 1.]]\n",
      "[[1. 0. 0. 0.]\n",
      " [0. 1. 0. 0.]\n",
      " [0. 0. 1. 0.]]\n"
     ]
    }
   ],
   "source": [
    "# Identity matrix\n",
    "\n",
    "a = np.eye(3)\n",
    "print(a)\n",
    "\n",
    "a = np.eye(3, 4)\n",
    "print(a)"
   ]
  },
  {
   "cell_type": "code",
   "execution_count": 28,
   "metadata": {},
   "outputs": [
    {
     "name": "stdout",
     "output_type": "stream",
     "text": [
      "np.random.random(3) => [0.35874718 0.35760719 0.34841981]\n",
      "np.random.random((2,3)) => [[0.04733281 0.68814467 0.09597732]\n",
      " [0.73272552 0.62920925 0.78880084]]\n",
      "\n",
      "After updation:  [[0.04733281 0.435      0.435     ]\n",
      " [0.73272552 0.435      0.435     ]]\n",
      "[[0.435]\n",
      " [0.435]]\n"
     ]
    }
   ],
   "source": [
    "# Random matrix\n",
    "randomMatrix = np.random.random(3)\n",
    "print('np.random.random(3) =>', randomMatrix)\n",
    "\n",
    "randomMatrix = np.random.random((2,3))\n",
    "print('np.random.random((2,3)) =>', randomMatrix)\n",
    "\n",
    "randomMatrix[:, 1:] = 0.435\n",
    "print('\\nAfter updation: ', randomMatrix)\n",
    "\n",
    "print(randomMatrix[:, 2:])"
   ]
  },
  {
   "cell_type": "code",
   "execution_count": 41,
   "metadata": {},
   "outputs": [
    {
     "name": "stdout",
     "output_type": "stream",
     "text": [
      "np.random.random((2,3)) => [[0.04733281 0.435      0.435     ]\n",
      " [0.73272552 0.435      0.435     ]]\n",
      "float64\n",
      "[[1. 1. 1. 1. 1.]\n",
      " [1. 1. 1. 1. 1.]]\n",
      "float64\n",
      "\n",
      "np.random.randint: [[53 86]\n",
      " [34 64]\n",
      " [98 88]]\n",
      "int32\n",
      "\n",
      "np.random.randint: [[64 70]\n",
      " [30 67]\n",
      " [97 41]]\n",
      "int32\n",
      "\n",
      "np.random.randint: [[1351753726850268 5621740567378798]\n",
      " [5213748364153463 3396650839591242]\n",
      " [9121461662288401 8417463073933338]]\n",
      "int64\n"
     ]
    }
   ],
   "source": [
    "# Data types of numpy arrays\n",
    "\n",
    "z = np.random.random((2,3))\n",
    "print('np.random.random((2,3)) =>', randomMatrix)\n",
    "print(z.dtype)\n",
    "\n",
    "a = np.ones((2,5))\n",
    "print(a)\n",
    "print(a.dtype)\n",
    "\n",
    "a = np.random.randint(1, 100, (3, 2))\n",
    "print('\\nnp.random.randint:', a)\n",
    "print(a.dtype)\n",
    "\n",
    "a = np.random.randint(1, 99, (3, 2))\n",
    "print('\\nnp.random.randint:', a)\n",
    "print(a.dtype)\n",
    "\n",
    "a = np.random.randint(1, 10000000000000000, (3, 2), dtype=np.int64)\n",
    "print('\\nnp.random.randint:', a)\n",
    "print(a.dtype)"
   ]
  },
  {
   "cell_type": "code",
   "execution_count": 47,
   "metadata": {},
   "outputs": [
    {
     "name": "stdout",
     "output_type": "stream",
     "text": [
      "a + b =  [[ 6  8]\n",
      " [10 12]]\n",
      "[[ 6  8]\n",
      " [10 12]]\n",
      "a - b =  [[-4 -4]\n",
      " [-4 -4]]\n",
      "[[-4 -4]\n",
      " [-4 -4]]\n",
      "a * b =  [[ 5 12]\n",
      " [21 32]]\n",
      "[[ 5 12]\n",
      " [21 32]]\n",
      "a / b =  [[0.2        0.33333333]\n",
      " [0.42857143 0.5       ]]\n",
      "[[0.2        0.33333333]\n",
      " [0.42857143 0.5       ]]\n"
     ]
    }
   ],
   "source": [
    "# Mathematical operations\n",
    "\n",
    "a = np.array([[1, 2], [3, 4]])\n",
    "b = np.array([[5, 6], [7, 8]])\n",
    "\n",
    "print('a + b = ', a + b)\n",
    "print(np.add(a, b))\n",
    "\n",
    "print('a - b = ', a - b)\n",
    "print(np.subtract(a, b))\n",
    "\n",
    "print('a * b = ', a * b)\n",
    "print(np.multiply(a, b))\n",
    "\n",
    "print('a / b = ', a / b)\n",
    "print(np.divide(a, b))"
   ]
  },
  {
   "cell_type": "code",
   "execution_count": 48,
   "metadata": {},
   "outputs": [
    {
     "name": "stdout",
     "output_type": "stream",
     "text": [
      "[1.         1.41421356 1.73205081 2.        ]\n"
     ]
    }
   ],
   "source": [
    "# Square root\n",
    "\n",
    "a = np.array([1, 2, 3, 4])\n",
    "print(np.sqrt(a))"
   ]
  },
  {
   "cell_type": "code",
   "execution_count": 7,
   "metadata": {},
   "outputs": [
    {
     "name": "stdout",
     "output_type": "stream",
     "text": [
      "[[1 2]\n",
      " [3 4]]\n",
      "[[5 6]\n",
      " [7 8]]\n",
      "[[19 22]\n",
      " [43 50]]\n",
      "[[19 22]\n",
      " [43 50]]\n",
      "[[1 2]\n",
      " [3 4]\n",
      " [5 6]]\n",
      "[[5 6 7]\n",
      " [7 8 9]]\n",
      "[[19 22 25]\n",
      " [43 50 57]\n",
      " [67 78 89]]\n",
      "[[19 22 25]\n",
      " [43 50 57]\n",
      " [67 78 89]]\n"
     ]
    }
   ],
   "source": [
    "# Dot product of two matrices\n",
    "\n",
    "x = np.array([[1,2],[3,4]])\n",
    "y = np.array([[5,6],[7,8]])\n",
    "\n",
    "print(x, y, sep='\\n')\n",
    "\n",
    "print(x.dot(y))\n",
    "print(np.dot(x, y))\n",
    "\n",
    "x = np.array([[1,2],[3,4],[5,6]])\n",
    "y = np.array([[5,6,7],[7,8,9]])\n",
    "\n",
    "print(x, y, sep='\\n')\n",
    "\n",
    "print(x.dot(y))\n",
    "print(np.dot(x, y))"
   ]
  },
  {
   "cell_type": "code",
   "execution_count": 8,
   "metadata": {},
   "outputs": [
    {
     "name": "stdout",
     "output_type": "stream",
     "text": [
      "[1 2 3 4]\n",
      "[5 6 7 8]\n",
      "70\n",
      "70\n"
     ]
    }
   ],
   "source": [
    "# Multiplication of vectors gives a scalar\n",
    "\n",
    "x = np.array([1,2,3,4])\n",
    "y = np.array([5,6,7,8])\n",
    "\n",
    "print(x, y, sep='\\n')\n",
    "\n",
    "print(x.dot(y))\n",
    "print(np.dot(x, y))"
   ]
  },
  {
   "cell_type": "code",
   "execution_count": 12,
   "metadata": {},
   "outputs": [
    {
     "name": "stdout",
     "output_type": "stream",
     "text": [
      "[[1 2]\n",
      " [3 4]]\n",
      "Sum of elements of x:  [4 6]\n",
      "Sum of elements of x:  10\n",
      "[4 6]\n",
      "[3 7]\n"
     ]
    }
   ],
   "source": [
    "# Sum of an numpy array\n",
    "\n",
    "x = np.array([[1,2],[3,4]])\n",
    "print(x)\n",
    "print('Sum of elements of x: ', sum(x))\n",
    "print('Sum of elements of x: ', np.sum(x))\n",
    "\n",
    "print(np.sum(x, axis=0))\n",
    "print(np.sum(x, axis=1))"
   ]
  },
  {
   "cell_type": "code",
   "execution_count": 16,
   "metadata": {},
   "outputs": [
    {
     "name": "stdout",
     "output_type": "stream",
     "text": [
      "[1 2 3 4]\n",
      "[5 6 7 8]\n",
      "[[1 2 3 4]\n",
      " [5 6 7 8]]\n",
      "[[1 5]\n",
      " [2 6]\n",
      " [3 7]\n",
      " [4 8]]\n"
     ]
    }
   ],
   "source": [
    "# Stacking of arrays\n",
    "\n",
    "x = np.array([1,2,3,4])\n",
    "y = np.array([5,6,7,8])\n",
    "z = np.stack((x, y), axis=0)\n",
    "print(x, y, z, sep='\\n')\n",
    "\n",
    "z = np.stack((x, y), axis=1)\n",
    "print(z, sep='\\n')"
   ]
  },
  {
   "cell_type": "code",
   "execution_count": 18,
   "metadata": {},
   "outputs": [
    {
     "name": "stdout",
     "output_type": "stream",
     "text": [
      "[[1 2]\n",
      " [3 4]]\n",
      "[[5 6]\n",
      " [7 8]]\n",
      "[[[1 2]\n",
      "  [3 4]]\n",
      "\n",
      " [[5 6]\n",
      "  [7 8]]]\n",
      "(2, 2, 2)\n",
      "[[[1 2]\n",
      "  [5 6]]\n",
      "\n",
      " [[3 4]\n",
      "  [7 8]]]\n",
      "(2, 2, 2)\n"
     ]
    }
   ],
   "source": [
    "x = np.array([[1,2],[3,4]])\n",
    "y = np.array([[5,6],[7,8]])\n",
    "z = np.stack((x, y), axis=0)\n",
    "print(x, y, z, z.shape, sep='\\n')\n",
    "\n",
    "z = np.stack((x, y), axis=1)\n",
    "print(z, z.shape, sep='\\n')"
   ]
  },
  {
   "cell_type": "code",
   "execution_count": null,
   "metadata": {},
   "outputs": [],
   "source": []
  }
 ],
 "metadata": {
  "kernelspec": {
   "display_name": "Python 3",
   "language": "python",
   "name": "python3"
  },
  "language_info": {
   "codemirror_mode": {
    "name": "ipython",
    "version": 3
   },
   "file_extension": ".py",
   "mimetype": "text/x-python",
   "name": "python",
   "nbconvert_exporter": "python",
   "pygments_lexer": "ipython3",
   "version": "3.8.5"
  }
 },
 "nbformat": 4,
 "nbformat_minor": 4
}
