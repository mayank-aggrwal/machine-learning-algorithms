{
 "cells": [
  {
   "cell_type": "markdown",
   "metadata": {},
   "source": [
    "### DATA STRUCTURES IN PYTHON\n",
    "\n",
    "#### Builtin data types:\n",
    "- Strings\n",
    "- Lists\n",
    "- Tuples\n",
    "- Dictionaries\n",
    "- Sets"
   ]
  },
  {
   "cell_type": "markdown",
   "metadata": {},
   "source": [
    "### STRINGS"
   ]
  },
  {
   "cell_type": "code",
   "execution_count": 1,
   "metadata": {},
   "outputs": [
    {
     "name": "stdout",
     "output_type": "stream",
     "text": [
      "Hello World ! <class 'str'>\n"
     ]
    }
   ],
   "source": [
    "a = 'Hello World !'\n",
    "print(a, type(a), sep=' ')"
   ]
  },
  {
   "cell_type": "markdown",
   "metadata": {},
   "source": [
    "##### Indexing and reverse indexing"
   ]
  },
  {
   "cell_type": "code",
   "execution_count": 3,
   "metadata": {},
   "outputs": [
    {
     "name": "stdout",
     "output_type": "stream",
     "text": [
      "Who is this?\n",
      "W\n",
      "?\n",
      "length of string is: 12\n"
     ]
    }
   ],
   "source": [
    "a = 'Who is this?'\n",
    "print(a)\n",
    "print(a[0]) # 0-based Indexing\n",
    "print(a[-1])\n",
    "print('length of string is: {}'.format(len(a)))"
   ]
  },
  {
   "cell_type": "markdown",
   "metadata": {},
   "source": [
    "##### Python strings are immutable, but can assign the string variable to another string"
   ]
  },
  {
   "cell_type": "code",
   "execution_count": 7,
   "metadata": {},
   "outputs": [
    {
     "name": "stdout",
     "output_type": "stream",
     "text": [
      "I am here\n",
      "You are here\n",
      "Y\n"
     ]
    }
   ],
   "source": [
    "a = 'I am here'\n",
    "print(a)\n",
    "\n",
    "a = 'You are here' # Valid\n",
    "print(a)\n",
    "\n",
    "print(a[0])\n",
    "# a[0] = 'H' # Invalid, 'str' object does not support item assignment"
   ]
  },
  {
   "cell_type": "markdown",
   "metadata": {},
   "source": [
    "##### Iterate over the characters of a string"
   ]
  },
  {
   "cell_type": "code",
   "execution_count": 9,
   "metadata": {},
   "outputs": [
    {
     "name": "stdout",
     "output_type": "stream",
     "text": [
      "H,o,w, ,a,r,e, ,y,o,u,?,\n",
      "H,o,w, ,a,r,e, ,y,o,u,?,"
     ]
    }
   ],
   "source": [
    "a = 'How are you?'\n",
    "for ch in a:\n",
    "    print(ch, end=',')\n",
    "    \n",
    "print()\n",
    "\n",
    "for i in range(0, len(a)):\n",
    "    print(a[i], end=',')"
   ]
  },
  {
   "cell_type": "markdown",
   "metadata": {},
   "source": [
    "##### Strings - operators"
   ]
  },
  {
   "cell_type": "code",
   "execution_count": 17,
   "metadata": {},
   "outputs": [
    {
     "name": "stdout",
     "output_type": "stream",
     "text": [
      "MangoJuice\n",
      "Mango Juice\n",
      "MangoMangoMangoMangoMango\n"
     ]
    }
   ],
   "source": [
    "a = 'Mango'\n",
    "b = 'Juice'\n",
    "print(a + b)\n",
    "print(a + ' ' + b)\n",
    "print(a * 5)"
   ]
  },
  {
   "cell_type": "markdown",
   "metadata": {},
   "source": [
    "##### Slicing in strings"
   ]
  },
  {
   "cell_type": "code",
   "execution_count": 20,
   "metadata": {},
   "outputs": [
    {
     "name": "stdout",
     "output_type": "stream",
     "text": [
      "Mango\n",
      "ngo\n",
      "ng\n",
      "go\n",
      "ng\n"
     ]
    }
   ],
   "source": [
    "# a[s : e + 1]\n",
    "a = 'Mango'\n",
    "print(a[:])\n",
    "print(a[2:])\n",
    "print(a[2:4])\n",
    "print(a[-2:])\n",
    "print(a[-3:-1])"
   ]
  },
  {
   "cell_type": "markdown",
   "metadata": {},
   "source": [
    "##### Membership in string"
   ]
  },
  {
   "cell_type": "code",
   "execution_count": null,
   "metadata": {},
   "outputs": [],
   "source": []
  },
  {
   "cell_type": "code",
   "execution_count": 12,
   "metadata": {},
   "outputs": [],
   "source": [
    "##### Iterate over the characters of a string"
   ]
  },
  {
   "cell_type": "code",
   "execution_count": null,
   "metadata": {},
   "outputs": [],
   "source": []
  },
  {
   "cell_type": "code",
   "execution_count": 13,
   "metadata": {},
   "outputs": [],
   "source": [
    "##### Iterate over the characters of a string"
   ]
  },
  {
   "cell_type": "code",
   "execution_count": null,
   "metadata": {},
   "outputs": [],
   "source": []
  },
  {
   "cell_type": "code",
   "execution_count": 14,
   "metadata": {},
   "outputs": [],
   "source": [
    "##### Iterate over the characters of a string"
   ]
  },
  {
   "cell_type": "code",
   "execution_count": null,
   "metadata": {},
   "outputs": [],
   "source": []
  },
  {
   "cell_type": "code",
   "execution_count": 15,
   "metadata": {},
   "outputs": [],
   "source": [
    "##### Iterate over the characters of a string"
   ]
  },
  {
   "cell_type": "code",
   "execution_count": null,
   "metadata": {},
   "outputs": [],
   "source": []
  },
  {
   "cell_type": "code",
   "execution_count": null,
   "metadata": {},
   "outputs": [],
   "source": [
    "##### Iterate over the characters of a string"
   ]
  },
  {
   "cell_type": "code",
   "execution_count": null,
   "metadata": {},
   "outputs": [],
   "source": []
  }
 ],
 "metadata": {
  "kernelspec": {
   "display_name": "Python 3",
   "language": "python",
   "name": "python3"
  },
  "language_info": {
   "codemirror_mode": {
    "name": "ipython",
    "version": 3
   },
   "file_extension": ".py",
   "mimetype": "text/x-python",
   "name": "python",
   "nbconvert_exporter": "python",
   "pygments_lexer": "ipython3",
   "version": "3.8.5"
  }
 },
 "nbformat": 4,
 "nbformat_minor": 4
}
