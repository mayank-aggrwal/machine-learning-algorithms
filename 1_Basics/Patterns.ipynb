{
 "cells": [
  {
   "cell_type": "markdown",
   "metadata": {},
   "source": [
    "\n",
    "# Patterns"
   ]
  },
  {
   "cell_type": "markdown",
   "metadata": {},
   "source": [
    "---"
   ]
  },
  {
   "cell_type": "code",
   "execution_count": 5,
   "metadata": {},
   "outputs": [],
   "source": [
    "pattern = \"\"\"\n",
    "    1\n",
    "   232\n",
    "  34543\n",
    " 4567654\n",
    " \n",
    "\"\"\""
   ]
  },
  {
   "cell_type": "code",
   "execution_count": 7,
   "metadata": {},
   "outputs": [
    {
     "name": "stdout",
     "output_type": "stream",
     "text": [
      "5\n",
      "    1\n",
      "   232\n",
      "  34543\n",
      " 4567654\n",
      "567898765\n"
     ]
    }
   ],
   "source": [
    "n = int(input())\n",
    "\n",
    "for i in range(1, n + 1):\n",
    "    \n",
    "    # spaces\n",
    "    for j in range(n - i):\n",
    "        print(' ', end='')\n",
    "    \n",
    "    # increasing sequence\n",
    "    for j in range(i, 2 * i):\n",
    "        print(j, end='')\n",
    "    \n",
    "    # decreasing sequence\n",
    "    for j in range(2 * i - 2, i - 1, -1):\n",
    "        print(j, end='')\n",
    "        \n",
    "    print()"
   ]
  },
  {
   "cell_type": "markdown",
   "metadata": {},
   "source": [
    "### Print Number Pyramid"
   ]
  },
  {
   "cell_type": "code",
   "execution_count": 2,
   "metadata": {},
   "outputs": [],
   "source": [
    "\n",
    "s = \"\"\"\n",
    "Print the following pattern for a given n.\n",
    "For eg. N = 6\n",
    "\n",
    "123456\n",
    " 23456\n",
    "  3456\n",
    "   456\n",
    "    56\n",
    "     6\n",
    "    56\n",
    "   456\n",
    "  3456\n",
    " 23456\n",
    "123456\n",
    "\n",
    "\"\"\""
   ]
  },
  {
   "cell_type": "code",
   "execution_count": 8,
   "metadata": {},
   "outputs": [
    {
     "name": "stdout",
     "output_type": "stream",
     "text": [
      "4\n",
      "1234\n",
      " 234\n",
      "  34\n",
      "   4\n",
      "  34\n",
      " 234\n",
      "1234\n"
     ]
    }
   ],
   "source": [
    "n = int(input())\n",
    "\n",
    "for i in range(1, n + 1):\n",
    "    # spaces\n",
    "    for j in range(1, i):\n",
    "        print(\" \", end=\"\")\n",
    "    # numbers\n",
    "    for j in range(i, n + 1):\n",
    "        print(j, end=\"\")\n",
    "    print()\n",
    "\n",
    "for i in range(n - 1, 0, -1):\n",
    "    # spaces\n",
    "    for j in range(1, i):\n",
    "        print(\" \", end=\"\")\n",
    "    # numbers\n",
    "    for j in range(i, n + 1):\n",
    "        print(j, end=\"\")\n",
    "    print()\n",
    "    "
   ]
  },
  {
   "cell_type": "markdown",
   "metadata": {},
   "source": [
    "### Binary Pattern"
   ]
  },
  {
   "cell_type": "code",
   "execution_count": 9,
   "metadata": {},
   "outputs": [],
   "source": [
    "\n",
    "s = \"\"\"\n",
    "Print the following pattern for the given number of rows.\n",
    "Pattern for N = 4\n",
    "    1111\n",
    "    000\n",
    "    11\n",
    "    0\n",
    "Input format : N (Total no. of rows)\n",
    "Output format : Pattern in N lines\n",
    "\"\"\""
   ]
  },
  {
   "cell_type": "code",
   "execution_count": 13,
   "metadata": {},
   "outputs": [
    {
     "name": "stdout",
     "output_type": "stream",
     "text": [
      "3\n",
      "111\n",
      "00\n",
      "1\n"
     ]
    }
   ],
   "source": [
    "n = int(input())\n",
    "\n",
    "for i in range(1, n + 1):\n",
    "    for j in range(n - i + 1):\n",
    "        if i % 2 == 0:\n",
    "            print(\"0\", end=\"\")\n",
    "        else:\n",
    "            print(\"1\", end=\"\")\n",
    "    print()"
   ]
  },
  {
   "cell_type": "markdown",
   "metadata": {},
   "source": [
    "### Rectangular numbers"
   ]
  },
  {
   "cell_type": "code",
   "execution_count": 15,
   "metadata": {},
   "outputs": [],
   "source": [
    "\n",
    "s = \"\"\"\n",
    "Print the following pattern for the given number of rows.\n",
    "Pattern for N = 4\n",
    "\n",
    "    4444444\n",
    "    4333334\n",
    "    4322234\n",
    "    4321234\n",
    "    4322234\n",
    "    4333334  \n",
    "    4444444\n",
    "    \n",
    "Input format : N (Total no. of rows)\n",
    "Output format : Pattern in N lines\n",
    "\"\"\""
   ]
  },
  {
   "cell_type": "code",
   "execution_count": null,
   "metadata": {},
   "outputs": [],
   "source": []
  },
  {
   "cell_type": "markdown",
   "metadata": {},
   "source": [
    "### Print the pattern"
   ]
  },
  {
   "cell_type": "code",
   "execution_count": 17,
   "metadata": {},
   "outputs": [],
   "source": [
    "\n",
    "s = \"\"\"\n",
    "Print the following pattern for the given number of rows.\n",
    "\n",
    "Pattern for N = 5\n",
    "\n",
    " 1    2   3    4   5\n",
    " 11   12  13   14  15\n",
    " 21   22  23   24  25\n",
    " 16   17  18   19  20\n",
    " 6    7   8    9   10\n",
    " \n",
    "Input format : N (Total no. of rows)\n",
    "Output format : Pattern in N lines\n",
    "\"\"\""
   ]
  },
  {
   "cell_type": "code",
   "execution_count": null,
   "metadata": {},
   "outputs": [],
   "source": []
  },
  {
   "cell_type": "code",
   "execution_count": null,
   "metadata": {},
   "outputs": [],
   "source": []
  }
 ],
 "metadata": {
  "kernelspec": {
   "display_name": "Python 3",
   "language": "python",
   "name": "python3"
  },
  "language_info": {
   "codemirror_mode": {
    "name": "ipython",
    "version": 3
   },
   "file_extension": ".py",
   "mimetype": "text/x-python",
   "name": "python",
   "nbconvert_exporter": "python",
   "pygments_lexer": "ipython3",
   "version": "3.8.5"
  }
 },
 "nbformat": 4,
 "nbformat_minor": 4
}
